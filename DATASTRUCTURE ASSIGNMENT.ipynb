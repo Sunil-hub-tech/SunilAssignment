{
 "cells": [
  {
   "cell_type": "code",
   "execution_count": 6,
   "id": "c7f3e37a-82b3-48bd-9f1c-7cee5f574523",
   "metadata": {},
   "outputs": [],
   "source": [
    "# (1)Discuss string slicing and provide examples.\n",
    "# Ans:-String slicing is a technique in python programming to extract a some part of characters from the string.\n",
    "#     The syntax of string slicing is string[start:end:step].\n",
    "#Example"
   ]
  },
  {
   "cell_type": "code",
   "execution_count": 9,
   "id": "0b9579d6-69d6-4886-a4b4-485ada555334",
   "metadata": {},
   "outputs": [
    {
     "data": {
      "text/plain": [
       "'I am'"
      ]
     },
     "execution_count": 9,
     "metadata": {},
     "output_type": "execute_result"
    }
   ],
   "source": [
    "string1=\"I am a good dancer\"\n",
    "string1[0:4:1]\n"
   ]
  },
  {
   "cell_type": "code",
   "execution_count": 10,
   "id": "ec5517e1-11c5-4d85-800c-5441bba3d5da",
   "metadata": {},
   "outputs": [
    {
     "data": {
      "text/plain": [
       "'I am a good dancer'"
      ]
     },
     "execution_count": 10,
     "metadata": {},
     "output_type": "execute_result"
    }
   ],
   "source": [
    "string1[ : : ]#here it will take from start to end by one step by default."
   ]
  },
  {
   "cell_type": "code",
   "execution_count": 11,
   "id": "85e383fe-a60d-4ab9-b4c8-6d77b1829151",
   "metadata": {},
   "outputs": [
    {
     "data": {
      "text/plain": [
       "'I am a'"
      ]
     },
     "execution_count": 11,
     "metadata": {},
     "output_type": "execute_result"
    }
   ],
   "source": [
    "string1[ :6: ] #here bydefault it cut the string from start to 6th index."
   ]
  },
  {
   "cell_type": "code",
   "execution_count": 12,
   "id": "236de1a5-bc3c-4922-bbdd-537d1d70d4a0",
   "metadata": {},
   "outputs": [
    {
     "data": {
      "text/plain": [
       "'ncer'"
      ]
     },
     "execution_count": 12,
     "metadata": {},
     "output_type": "execute_result"
    }
   ],
   "source": [
    "string1[-4: : ]#we can slice the string from 4th last index to end index."
   ]
  },
  {
   "cell_type": "code",
   "execution_count": 13,
   "id": "745919eb-c304-4438-9001-4eb282f5a65a",
   "metadata": {},
   "outputs": [
    {
     "data": {
      "text/plain": [
       "'I am a good danc'"
      ]
     },
     "execution_count": 13,
     "metadata": {},
     "output_type": "execute_result"
    }
   ],
   "source": [
    "string1[0:-2:1]#Here we can cut the string by excluding last two characters."
   ]
  },
  {
   "cell_type": "code",
   "execution_count": 14,
   "id": "1d422d5b-6523-49ae-acbc-a15b75f06321",
   "metadata": {},
   "outputs": [
    {
     "data": {
      "text/plain": [
       "'Ia  '"
      ]
     },
     "execution_count": 14,
     "metadata": {},
     "output_type": "execute_result"
    }
   ],
   "source": [
    "string1[0:7:2]#we can cut string by 2 steps from 0th index to 7th index"
   ]
  },
  {
   "cell_type": "code",
   "execution_count": 17,
   "id": "f24bed7e-84fe-44dd-8478-320d422c550e",
   "metadata": {},
   "outputs": [
    {
     "data": {
      "text/plain": [
       "'rca ogam '"
      ]
     },
     "execution_count": 17,
     "metadata": {},
     "output_type": "execute_result"
    }
   ],
   "source": [
    "string1[ : :-2]#we can extract string by reverse it by 2 steps"
   ]
  },
  {
   "cell_type": "code",
   "execution_count": 19,
   "id": "240d38e7-5203-483b-a85e-f20cb553811a",
   "metadata": {},
   "outputs": [],
   "source": [
    "# (2)Explain the key features of lists in Python.\n",
    "# Ans:-List is the one type of data structure in python.\n",
    "#     In the list data is stored orderly manner.\n",
    "#     we can store any type of data here.\n",
    "  "
   ]
  },
  {
   "cell_type": "code",
   "execution_count": 21,
   "id": "24667d1d-d2ae-4f6b-8a93-10fedaaaea9b",
   "metadata": {},
   "outputs": [
    {
     "data": {
      "text/plain": [
       "[1,\n",
       " 2,\n",
       " 3,\n",
       " 'sunil',\n",
       " True,\n",
       " (1, 2, 3),\n",
       " {1, 2, 3},\n",
       " (3+8j),\n",
       " [4, 5, 6],\n",
       " {'name': 'sunil'}]"
      ]
     },
     "execution_count": 21,
     "metadata": {},
     "output_type": "execute_result"
    }
   ],
   "source": [
    "lis=[1,2,3,\"sunil\",True,(1,2,3),{1,2,3},3+8j,[4,5,6],{\"name\":\"sunil\"}]\n",
    "lis"
   ]
  },
  {
   "cell_type": "code",
   "execution_count": 22,
   "id": "8fcca87e-1540-4c95-b4ad-690f975c26ac",
   "metadata": {},
   "outputs": [],
   "source": [
    "# #key features of list are \n",
    "# (a)ordered:list is the ordered collection data type where we can add or extract data easily.\n",
    "lis.append(\"skn\")"
   ]
  },
  {
   "cell_type": "code",
   "execution_count": 23,
   "id": "1cd5a158-fd7c-492c-8dad-1442c3752a6e",
   "metadata": {},
   "outputs": [
    {
     "data": {
      "text/plain": [
       "[1,\n",
       " 2,\n",
       " 3,\n",
       " 'sunil',\n",
       " True,\n",
       " (1, 2, 3),\n",
       " {1, 2, 3},\n",
       " (3+8j),\n",
       " [4, 5, 6],\n",
       " {'name': 'sunil'},\n",
       " 'skn']"
      ]
     },
     "execution_count": 23,
     "metadata": {},
     "output_type": "execute_result"
    }
   ],
   "source": [
    "lis"
   ]
  },
  {
   "cell_type": "code",
   "execution_count": 25,
   "id": "9c31f0bb-e11f-4a37-bd36-7cda3f25a18e",
   "metadata": {},
   "outputs": [
    {
     "data": {
      "text/plain": [
       "'skn'"
      ]
     },
     "execution_count": 25,
     "metadata": {},
     "output_type": "execute_result"
    }
   ],
   "source": [
    "lis.pop()"
   ]
  },
  {
   "cell_type": "code",
   "execution_count": 26,
   "id": "734c38ad-c7e0-4b49-a857-5cff42ecb744",
   "metadata": {},
   "outputs": [
    {
     "data": {
      "text/plain": [
       "[1,\n",
       " 2,\n",
       " 3,\n",
       " 'sunil',\n",
       " True,\n",
       " (1, 2, 3),\n",
       " {1, 2, 3},\n",
       " (3+8j),\n",
       " [4, 5, 6],\n",
       " {'name': 'sunil'}]"
      ]
     },
     "execution_count": 26,
     "metadata": {},
     "output_type": "execute_result"
    }
   ],
   "source": [
    "lis"
   ]
  },
  {
   "cell_type": "code",
   "execution_count": 28,
   "id": "53303555-ae54-4beb-8b88-401f45f5cce0",
   "metadata": {},
   "outputs": [],
   "source": [
    "# (b)It is mutable.\n",
    "lis[4]=\"bikash\""
   ]
  },
  {
   "cell_type": "code",
   "execution_count": 29,
   "id": "71b5de07-af1b-431b-8227-b3cdd2ec1607",
   "metadata": {},
   "outputs": [
    {
     "data": {
      "text/plain": [
       "[1,\n",
       " 2,\n",
       " 3,\n",
       " 'sunil',\n",
       " 'bikash',\n",
       " (1, 2, 3),\n",
       " {1, 2, 3},\n",
       " (3+8j),\n",
       " [4, 5, 6],\n",
       " {'name': 'sunil'}]"
      ]
     },
     "execution_count": 29,
     "metadata": {},
     "output_type": "execute_result"
    }
   ],
   "source": [
    "lis"
   ]
  },
  {
   "cell_type": "code",
   "execution_count": 31,
   "id": "c16064cb-d9c7-47ec-976f-2455ede1849f",
   "metadata": {},
   "outputs": [
    {
     "data": {
      "text/plain": [
       "1"
      ]
     },
     "execution_count": 31,
     "metadata": {},
     "output_type": "execute_result"
    }
   ],
   "source": [
    "# (c)List elements are indexable.\n",
    "lis[0]"
   ]
  },
  {
   "cell_type": "code",
   "execution_count": 32,
   "id": "e0e10b39-234a-4939-a260-b18be0918f6d",
   "metadata": {},
   "outputs": [
    {
     "data": {
      "text/plain": [
       "{'name': 'sunil'}"
      ]
     },
     "execution_count": 32,
     "metadata": {},
     "output_type": "execute_result"
    }
   ],
   "source": [
    "lis[-1]"
   ]
  },
  {
   "cell_type": "code",
   "execution_count": 36,
   "id": "c6138a34-ea6b-492e-bce9-29910f06272d",
   "metadata": {},
   "outputs": [],
   "source": [
    "# (d)list can be extendable.\n",
    "lis1=[4,8,12]\n",
    "lis.extend(lis1)\n"
   ]
  },
  {
   "cell_type": "code",
   "execution_count": 37,
   "id": "2e97fabd-5c42-4113-8de6-6587055e2a0a",
   "metadata": {},
   "outputs": [
    {
     "data": {
      "text/plain": [
       "[1,\n",
       " 2,\n",
       " 3,\n",
       " 'sunil',\n",
       " 'bikash',\n",
       " (1, 2, 3),\n",
       " {1, 2, 3},\n",
       " (3+8j),\n",
       " [4, 5, 6],\n",
       " {'name': 'sunil'},\n",
       " 4,\n",
       " 8,\n",
       " 12]"
      ]
     },
     "execution_count": 37,
     "metadata": {},
     "output_type": "execute_result"
    }
   ],
   "source": [
    "lis"
   ]
  },
  {
   "cell_type": "code",
   "execution_count": 38,
   "id": "8bc4692a-630c-4ec9-ba90-6379480b74b5",
   "metadata": {},
   "outputs": [
    {
     "data": {
      "text/plain": [
       "[1, 2, 3, 'sunil']"
      ]
     },
     "execution_count": 38,
     "metadata": {},
     "output_type": "execute_result"
    }
   ],
   "source": [
    "#(e)list elements can be sliced.\n",
    "lis[0:4]"
   ]
  },
  {
   "cell_type": "code",
   "execution_count": 39,
   "id": "1ee8675f-e044-4097-b076-fa5fd08212c4",
   "metadata": {},
   "outputs": [
    {
     "data": {
      "text/plain": [
       "[1,\n",
       " 2,\n",
       " 3,\n",
       " 'sunil',\n",
       " 'bikash',\n",
       " (1, 2, 3),\n",
       " {1, 2, 3},\n",
       " (3+8j),\n",
       " [4, 5, 6],\n",
       " {'name': 'sunil'},\n",
       " 4,\n",
       " 8,\n",
       " 12]"
      ]
     },
     "execution_count": 39,
     "metadata": {},
     "output_type": "execute_result"
    }
   ],
   "source": [
    "# # (3)Describe how to access, modify and delete elements in a list with examples.\n",
    "# Ans:-List element can be accessed by indexing.\n",
    "lis\n"
   ]
  },
  {
   "cell_type": "code",
   "execution_count": 40,
   "id": "f14ff4e2-b798-4b2c-87f6-6bb7ec3abcae",
   "metadata": {},
   "outputs": [
    {
     "data": {
      "text/plain": [
       "(1, 2, 3)"
      ]
     },
     "execution_count": 40,
     "metadata": {},
     "output_type": "execute_result"
    }
   ],
   "source": [
    "lis[5]"
   ]
  },
  {
   "cell_type": "code",
   "execution_count": 41,
   "id": "27a13003-67c1-400f-929e-6aef8a9e2228",
   "metadata": {},
   "outputs": [],
   "source": [
    "# List elements canbe modified by the help of indexing also.\n",
    "lis[5]=\"karan\""
   ]
  },
  {
   "cell_type": "code",
   "execution_count": 42,
   "id": "baf905e6-23d1-46e4-b7ce-b64c9f48463c",
   "metadata": {},
   "outputs": [
    {
     "data": {
      "text/plain": [
       "[1,\n",
       " 2,\n",
       " 3,\n",
       " 'sunil',\n",
       " 'bikash',\n",
       " 'karan',\n",
       " {1, 2, 3},\n",
       " (3+8j),\n",
       " [4, 5, 6],\n",
       " {'name': 'sunil'},\n",
       " 4,\n",
       " 8,\n",
       " 12]"
      ]
     },
     "execution_count": 42,
     "metadata": {},
     "output_type": "execute_result"
    }
   ],
   "source": [
    "lis #here we modified a tupple elememt to a string element."
   ]
  },
  {
   "cell_type": "code",
   "execution_count": 43,
   "id": "5072916a-75e4-4329-accc-c825740288a1",
   "metadata": {},
   "outputs": [
    {
     "data": {
      "text/plain": [
       "12"
      ]
     },
     "execution_count": 43,
     "metadata": {},
     "output_type": "execute_result"
    }
   ],
   "source": [
    "#list can be deleted and one by one also.\n",
    "lis.pop() #here by the help of pop function we can clear element from last end one by one."
   ]
  },
  {
   "cell_type": "code",
   "execution_count": 44,
   "id": "029c6888-1ac6-4b11-b0b8-3fccb594f92e",
   "metadata": {},
   "outputs": [
    {
     "data": {
      "text/plain": [
       "[1,\n",
       " 2,\n",
       " 3,\n",
       " 'sunil',\n",
       " 'bikash',\n",
       " 'karan',\n",
       " {1, 2, 3},\n",
       " (3+8j),\n",
       " [4, 5, 6],\n",
       " {'name': 'sunil'},\n",
       " 4,\n",
       " 8]"
      ]
     },
     "execution_count": 44,
     "metadata": {},
     "output_type": "execute_result"
    }
   ],
   "source": [
    "lis"
   ]
  },
  {
   "cell_type": "code",
   "execution_count": 45,
   "id": "c5d641a2-ed5a-4b7f-9d86-6e523f0c8503",
   "metadata": {},
   "outputs": [],
   "source": [
    "del lis"
   ]
  },
  {
   "cell_type": "code",
   "execution_count": 46,
   "id": "09c0f9e3-caff-4973-85f2-37110ada6395",
   "metadata": {},
   "outputs": [
    {
     "ename": "NameError",
     "evalue": "name 'lis' is not defined",
     "output_type": "error",
     "traceback": [
      "\u001b[0;31m---------------------------------------------------------------------------\u001b[0m",
      "\u001b[0;31mNameError\u001b[0m                                 Traceback (most recent call last)",
      "Cell \u001b[0;32mIn[46], line 1\u001b[0m\n\u001b[0;32m----> 1\u001b[0m \u001b[43mlis\u001b[49m\n",
      "\u001b[0;31mNameError\u001b[0m: name 'lis' is not defined"
     ]
    }
   ],
   "source": [
    "lis #it will give error because list is completely deleted."
   ]
  },
  {
   "cell_type": "code",
   "execution_count": 47,
   "id": "43f5bb33-70be-4d66-822e-4fb184ce4ac8",
   "metadata": {},
   "outputs": [],
   "source": [
    "#  (4)Compare and contrast tuples and lists with examples.\n",
    "# Ans:-compare:\n",
    "#     (i)Both can store multiple items of different data type.\n",
    "#     (ii)Both support indexing and slicing of element."
   ]
  },
  {
   "cell_type": "code",
   "execution_count": 48,
   "id": "6fc57bf9-14b3-4c7b-8a87-60e5924f677e",
   "metadata": {},
   "outputs": [],
   "source": [
    "#example:\n",
    "#(i)\n",
    "lis=[\"ankit\",1,2,True,2.3]\n",
    "tup=(1,2,4,\"sunil\",True)"
   ]
  },
  {
   "cell_type": "code",
   "execution_count": 49,
   "id": "68db3959-da17-4276-9ece-9a8243065ad3",
   "metadata": {},
   "outputs": [
    {
     "data": {
      "text/plain": [
       "['ankit', 1, 2, True, 2.3]"
      ]
     },
     "execution_count": 49,
     "metadata": {},
     "output_type": "execute_result"
    }
   ],
   "source": [
    "lis"
   ]
  },
  {
   "cell_type": "code",
   "execution_count": 50,
   "id": "274bf028-cdbc-43d0-9dad-2465d3b62aa1",
   "metadata": {},
   "outputs": [
    {
     "data": {
      "text/plain": [
       "(1, 2, 4, 'sunil', True)"
      ]
     },
     "execution_count": 50,
     "metadata": {},
     "output_type": "execute_result"
    }
   ],
   "source": [
    "tup"
   ]
  },
  {
   "cell_type": "code",
   "execution_count": 51,
   "id": "2edb0b27-d5b0-43b5-88cb-eca56facadd2",
   "metadata": {},
   "outputs": [
    {
     "data": {
      "text/plain": [
       "'ankit'"
      ]
     },
     "execution_count": 51,
     "metadata": {},
     "output_type": "execute_result"
    }
   ],
   "source": [
    "#(ii)\n",
    "lis[0]"
   ]
  },
  {
   "cell_type": "code",
   "execution_count": 53,
   "id": "9276fb02-f1e5-48c3-b867-4e1b38b2201f",
   "metadata": {},
   "outputs": [
    {
     "data": {
      "text/plain": [
       "['ankit', 1, 2, True]"
      ]
     },
     "execution_count": 53,
     "metadata": {},
     "output_type": "execute_result"
    }
   ],
   "source": [
    "lis[0:4]"
   ]
  },
  {
   "cell_type": "code",
   "execution_count": 54,
   "id": "041e384d-a5fd-4720-b889-897faaf8458b",
   "metadata": {},
   "outputs": [
    {
     "data": {
      "text/plain": [
       "1"
      ]
     },
     "execution_count": 54,
     "metadata": {},
     "output_type": "execute_result"
    }
   ],
   "source": [
    "tup[0]"
   ]
  },
  {
   "cell_type": "code",
   "execution_count": 55,
   "id": "19bc6330-4aa5-4387-bdbb-b0dee276d77f",
   "metadata": {},
   "outputs": [
    {
     "data": {
      "text/plain": [
       "(1, 2, 4, 'sunil')"
      ]
     },
     "execution_count": 55,
     "metadata": {},
     "output_type": "execute_result"
    }
   ],
   "source": [
    "tup[0:4]"
   ]
  },
  {
   "cell_type": "code",
   "execution_count": 56,
   "id": "fd532443-a10a-495a-a1ae-58a0bd8e5337",
   "metadata": {},
   "outputs": [],
   "source": [
    "# #Contrast:\n",
    "#     (i)Lists are mutable and tupples are immutable\n",
    "#     (ii)List uses square bracket where tuple uses parenthesis.\n",
    "#     (iii)Lists are slower and consume more memory than tuples.\n",
    "#     (iv)Lists have more builtin methods for modification than tuples."
   ]
  },
  {
   "cell_type": "code",
   "execution_count": 57,
   "id": "4db7cca6-c396-472b-9a15-36d271a3f269",
   "metadata": {},
   "outputs": [],
   "source": [
    "# (i)\n",
    "lis=[\"sunil\",4,5,True]\n",
    "lis[0]=\"bikash\""
   ]
  },
  {
   "cell_type": "code",
   "execution_count": 58,
   "id": "b6d97059-5b61-4bef-8bda-827e422eb6b7",
   "metadata": {},
   "outputs": [
    {
     "data": {
      "text/plain": [
       "['bikash', 4, 5, True]"
      ]
     },
     "execution_count": 58,
     "metadata": {},
     "output_type": "execute_result"
    }
   ],
   "source": [
    "lis"
   ]
  },
  {
   "cell_type": "code",
   "execution_count": 59,
   "id": "f44f7552-436f-4fcc-b1ed-b7e70f2057bf",
   "metadata": {},
   "outputs": [
    {
     "data": {
      "text/plain": [
       "'sunil'"
      ]
     },
     "execution_count": 59,
     "metadata": {},
     "output_type": "execute_result"
    }
   ],
   "source": [
    "tup=(\"sunil\",\"akash\",4,5,3.6)\n",
    "tup[0]"
   ]
  },
  {
   "cell_type": "code",
   "execution_count": 60,
   "id": "f1752cc3-c993-4740-8eda-a0e5bcbae820",
   "metadata": {},
   "outputs": [
    {
     "ename": "TypeError",
     "evalue": "'tuple' object does not support item assignment",
     "output_type": "error",
     "traceback": [
      "\u001b[0;31m---------------------------------------------------------------------------\u001b[0m",
      "\u001b[0;31mTypeError\u001b[0m                                 Traceback (most recent call last)",
      "Cell \u001b[0;32mIn[60], line 1\u001b[0m\n\u001b[0;32m----> 1\u001b[0m \u001b[43mtup\u001b[49m\u001b[43m[\u001b[49m\u001b[38;5;241;43m0\u001b[39;49m\u001b[43m]\u001b[49m\u001b[38;5;241m=\u001b[39m\u001b[38;5;124m\"\u001b[39m\u001b[38;5;124mSenapati\u001b[39m\u001b[38;5;124m\"\u001b[39m\n",
      "\u001b[0;31mTypeError\u001b[0m: 'tuple' object does not support item assignment"
     ]
    }
   ],
   "source": [
    "tup[0]=\"Senapati\""
   ]
  },
  {
   "cell_type": "code",
   "execution_count": 61,
   "id": "69a20d44-758a-47d1-be1c-d12d6e9d40c6",
   "metadata": {},
   "outputs": [
    {
     "data": {
      "text/plain": [
       "['bikash', 4, 5, True]"
      ]
     },
     "execution_count": 61,
     "metadata": {},
     "output_type": "execute_result"
    }
   ],
   "source": [
    "# (iv)\n",
    "lis"
   ]
  },
  {
   "cell_type": "code",
   "execution_count": 62,
   "id": "497f15e3-0ffc-4565-b258-cbf5f386a1ee",
   "metadata": {},
   "outputs": [],
   "source": [
    "lis.append(\"sunil\")"
   ]
  },
  {
   "cell_type": "code",
   "execution_count": 63,
   "id": "7fd3b201-e63e-4e02-b18f-8ec60111c106",
   "metadata": {},
   "outputs": [
    {
     "data": {
      "text/plain": [
       "['bikash', 4, 5, True, 'sunil']"
      ]
     },
     "execution_count": 63,
     "metadata": {},
     "output_type": "execute_result"
    }
   ],
   "source": [
    "lis"
   ]
  },
  {
   "cell_type": "code",
   "execution_count": 64,
   "id": "1c1d85d9-f8a8-44eb-b27e-f4ac332e621d",
   "metadata": {},
   "outputs": [],
   "source": [
    "lis.remove(\"bikash\")"
   ]
  },
  {
   "cell_type": "code",
   "execution_count": 65,
   "id": "4dd2a2d6-e37c-48aa-9473-b2efb48c74c0",
   "metadata": {},
   "outputs": [
    {
     "data": {
      "text/plain": [
       "[4, 5, True, 'sunil']"
      ]
     },
     "execution_count": 65,
     "metadata": {},
     "output_type": "execute_result"
    }
   ],
   "source": [
    "lis"
   ]
  },
  {
   "cell_type": "code",
   "execution_count": 76,
   "id": "2509a219-d5c6-479e-8e41-65341f756e25",
   "metadata": {},
   "outputs": [],
   "source": [
    "lis1=[\"sunil\",\"karan\",\"ankit\",\"subash\"]"
   ]
  },
  {
   "cell_type": "code",
   "execution_count": 78,
   "id": "f7d3d81b-7052-49d4-8b84-2623a938f3d5",
   "metadata": {},
   "outputs": [
    {
     "data": {
      "text/plain": [
       "['ankit', 'karan', 'subash', 'sunil']"
      ]
     },
     "execution_count": 78,
     "metadata": {},
     "output_type": "execute_result"
    }
   ],
   "source": [
    "sorted(lis1)"
   ]
  },
  {
   "cell_type": "code",
   "execution_count": 79,
   "id": "cbe72238-8124-419a-9f91-d3adaea51a6f",
   "metadata": {},
   "outputs": [],
   "source": [
    "tup1=(4,5,6,7,7,5,9,3)"
   ]
  },
  {
   "cell_type": "code",
   "execution_count": 80,
   "id": "373104b0-44e3-4a6f-bfd4-d91250f23dc3",
   "metadata": {},
   "outputs": [
    {
     "data": {
      "text/plain": [
       "2"
      ]
     },
     "execution_count": 80,
     "metadata": {},
     "output_type": "execute_result"
    }
   ],
   "source": [
    "tup1.count(7)"
   ]
  },
  {
   "cell_type": "code",
   "execution_count": 81,
   "id": "41ed818f-65bd-4e00-ba21-f7320c6d4507",
   "metadata": {},
   "outputs": [
    {
     "data": {
      "text/plain": [
       "6"
      ]
     },
     "execution_count": 81,
     "metadata": {},
     "output_type": "execute_result"
    }
   ],
   "source": [
    "tup1.index(9)"
   ]
  },
  {
   "cell_type": "code",
   "execution_count": 82,
   "id": "5301120d-427f-4e4a-9470-ed3af3c1e80a",
   "metadata": {},
   "outputs": [],
   "source": [
    "# # (5)Describe the key features of sets and provide examples of their use.\n",
    "# Ans:-Set is one of the data type in python which contains unordered collection of unique elements.\n",
    "#     The key features of sets are :\n",
    "#     (i)Sets have unordered collection of unique elements.\n",
    "#     (ii)It is mutable in nature.\n",
    "#     (iii)Sets support some mathematical operations like union, intersection,difference and symmetric difference.\n",
    "#     (iv)Sets are not support indexing because of un ordered collection.\n",
    "#     (v)Sets can only contain hashable type elements."
   ]
  },
  {
   "cell_type": "code",
   "execution_count": 83,
   "id": "f07016f9-c0f6-45a9-b096-0b8dd68b4760",
   "metadata": {},
   "outputs": [
    {
     "data": {
      "text/plain": [
       "set"
      ]
     },
     "execution_count": 83,
     "metadata": {},
     "output_type": "execute_result"
    }
   ],
   "source": [
    "set1={1,2,3,4,\"sunil\",\"ajay\"}\n",
    "type(set1)"
   ]
  },
  {
   "cell_type": "code",
   "execution_count": 86,
   "id": "5e0665e9-5019-458c-b92a-5d6e616343c7",
   "metadata": {},
   "outputs": [],
   "source": [
    "set2={1,2,3,4,\"sunil\",\"sunil\",4,2,1,3}"
   ]
  },
  {
   "cell_type": "code",
   "execution_count": 87,
   "id": "37f07532-457c-4047-bc7b-d0a5fe5ae3e2",
   "metadata": {},
   "outputs": [
    {
     "data": {
      "text/plain": [
       "{1, 2, 3, 4, 'sunil'}"
      ]
     },
     "execution_count": 87,
     "metadata": {},
     "output_type": "execute_result"
    }
   ],
   "source": [
    "set2    #unique collection of elements."
   ]
  },
  {
   "cell_type": "code",
   "execution_count": 88,
   "id": "91b34c96-7bd0-4c6c-a0ce-f5947d52a872",
   "metadata": {},
   "outputs": [
    {
     "ename": "TypeError",
     "evalue": "'set' object is not subscriptable",
     "output_type": "error",
     "traceback": [
      "\u001b[0;31m---------------------------------------------------------------------------\u001b[0m",
      "\u001b[0;31mTypeError\u001b[0m                                 Traceback (most recent call last)",
      "Cell \u001b[0;32mIn[88], line 1\u001b[0m\n\u001b[0;32m----> 1\u001b[0m \u001b[43mset2\u001b[49m\u001b[43m[\u001b[49m\u001b[38;5;241;43m0\u001b[39;49m\u001b[43m]\u001b[49m\n",
      "\u001b[0;31mTypeError\u001b[0m: 'set' object is not subscriptable"
     ]
    }
   ],
   "source": [
    "set2[0] #not subscriptable"
   ]
  },
  {
   "cell_type": "code",
   "execution_count": 89,
   "id": "ee9e7a2e-65b6-4a92-b247-34c5ee51f429",
   "metadata": {},
   "outputs": [],
   "source": [
    "set2.add(100)"
   ]
  },
  {
   "cell_type": "code",
   "execution_count": 90,
   "id": "ac82fd31-6a44-493b-83e6-debb65b41a6e",
   "metadata": {},
   "outputs": [
    {
     "data": {
      "text/plain": [
       "{1, 100, 2, 3, 4, 'sunil'}"
      ]
     },
     "execution_count": 90,
     "metadata": {},
     "output_type": "execute_result"
    }
   ],
   "source": [
    "set2"
   ]
  },
  {
   "cell_type": "code",
   "execution_count": 91,
   "id": "abd97c7b-806e-49c5-8d26-5b5e2c65c5b8",
   "metadata": {},
   "outputs": [
    {
     "data": {
      "text/plain": [
       "1"
      ]
     },
     "execution_count": 91,
     "metadata": {},
     "output_type": "execute_result"
    }
   ],
   "source": [
    "set2.pop()"
   ]
  },
  {
   "cell_type": "code",
   "execution_count": 92,
   "id": "60db6f4c-ecd7-4322-965a-20aca7013b43",
   "metadata": {},
   "outputs": [],
   "source": [
    "set2.remove(100)"
   ]
  },
  {
   "cell_type": "code",
   "execution_count": 93,
   "id": "df9cb350-26c3-4b21-bef9-42ad4168b4ae",
   "metadata": {},
   "outputs": [
    {
     "data": {
      "text/plain": [
       "{2, 3, 4, 'sunil'}"
      ]
     },
     "execution_count": 93,
     "metadata": {},
     "output_type": "execute_result"
    }
   ],
   "source": [
    "set2"
   ]
  },
  {
   "cell_type": "code",
   "execution_count": 94,
   "id": "cceb0632-22d0-4034-9c62-858daaa948a4",
   "metadata": {},
   "outputs": [
    {
     "data": {
      "text/plain": [
       "{1, 2, 3, 4, 'ajay', 'sunil'}"
      ]
     },
     "execution_count": 94,
     "metadata": {},
     "output_type": "execute_result"
    }
   ],
   "source": [
    "set1"
   ]
  },
  {
   "cell_type": "code",
   "execution_count": 95,
   "id": "cae00a15-db69-4d55-a265-ccfe41c53738",
   "metadata": {},
   "outputs": [
    {
     "data": {
      "text/plain": [
       "{1, 2, 3, 4, 'ajay', 'sunil'}"
      ]
     },
     "execution_count": 95,
     "metadata": {},
     "output_type": "execute_result"
    }
   ],
   "source": [
    "set1|set2 #union of two sets."
   ]
  },
  {
   "cell_type": "code",
   "execution_count": 96,
   "id": "f446d6cb-82b2-4a34-b375-4588255bc429",
   "metadata": {},
   "outputs": [
    {
     "data": {
      "text/plain": [
       "{2, 3, 4, 'sunil'}"
      ]
     },
     "execution_count": 96,
     "metadata": {},
     "output_type": "execute_result"
    }
   ],
   "source": [
    "set1&set2 #intersection of two sets."
   ]
  },
  {
   "cell_type": "code",
   "execution_count": 97,
   "id": "b7ea66df-bbfe-4248-bfcd-6f57f5f0b226",
   "metadata": {},
   "outputs": [
    {
     "data": {
      "text/plain": [
       "{1, 'ajay'}"
      ]
     },
     "execution_count": 97,
     "metadata": {},
     "output_type": "execute_result"
    }
   ],
   "source": [
    "set1-set2 #difference of two sets"
   ]
  },
  {
   "cell_type": "code",
   "execution_count": 98,
   "id": "ce314245-e7b2-4ba0-988b-f791e961c29e",
   "metadata": {},
   "outputs": [
    {
     "data": {
      "text/plain": [
       "{1, 'ajay'}"
      ]
     },
     "execution_count": 98,
     "metadata": {},
     "output_type": "execute_result"
    }
   ],
   "source": [
    "set1^set2 #symmetric difference of two sets"
   ]
  },
  {
   "cell_type": "code",
   "execution_count": 100,
   "id": "8bb09150-53d5-4022-a4ba-0c75e712e185",
   "metadata": {},
   "outputs": [],
   "source": [
    "# (6)Discuss the use cases of tuples and sets in Python programming.\n",
    "# Ans:-Use cases of tuples:Tuples have few built in method to use tupple due the immutable nature of tuple."
   ]
  },
  {
   "cell_type": "code",
   "execution_count": 102,
   "id": "85da6a4d-2769-4eb0-8cc2-7134234b9c47",
   "metadata": {},
   "outputs": [
    {
     "data": {
      "text/plain": [
       "1"
      ]
     },
     "execution_count": 102,
     "metadata": {},
     "output_type": "execute_result"
    }
   ],
   "source": [
    "tup1=(\"sunil\",\"ajay\",\"bijay\",1,2,3.3,True,2,2,2)\n",
    "tup1.index(\"ajay\")"
   ]
  },
  {
   "cell_type": "code",
   "execution_count": 104,
   "id": "6ae00453-5f4a-4b2c-b113-2230f037f106",
   "metadata": {},
   "outputs": [
    {
     "data": {
      "text/plain": [
       "4"
      ]
     },
     "execution_count": 104,
     "metadata": {},
     "output_type": "execute_result"
    }
   ],
   "source": [
    "tup1.count(2)"
   ]
  },
  {
   "cell_type": "code",
   "execution_count": 105,
   "id": "0118a6e0-9584-4747-bb80-86845234a08a",
   "metadata": {},
   "outputs": [
    {
     "name": "stdout",
     "output_type": "stream",
     "text": [
      "('sunil', 'ajay', 'bijay', 1, 2, 3.3, True, 2, 2, 2, 'sunil', 'ajay', 'bijay', 1, 2, 3.3, True, 2, 2, 2)\n"
     ]
    }
   ],
   "source": [
    "print(tup1*2)"
   ]
  },
  {
   "cell_type": "code",
   "execution_count": 106,
   "id": "4836e60e-d818-44ed-803a-c9cdb83e5607",
   "metadata": {},
   "outputs": [
    {
     "name": "stdout",
     "output_type": "stream",
     "text": [
      "sunil\n",
      "ajay\n",
      "bijay\n",
      "1\n",
      "2\n",
      "3.3\n",
      "True\n",
      "2\n",
      "2\n",
      "2\n"
     ]
    }
   ],
   "source": [
    "for i in tup1:\n",
    "    print(i)"
   ]
  },
  {
   "cell_type": "code",
   "execution_count": 108,
   "id": "abe8c919-1fcf-4a3d-9f9f-c09e69df3f6b",
   "metadata": {},
   "outputs": [
    {
     "data": {
      "text/plain": [
       "102"
      ]
     },
     "execution_count": 108,
     "metadata": {},
     "output_type": "execute_result"
    }
   ],
   "source": [
    "tup2=(1,2,100,75,102,0)\n",
    "max(tup2)"
   ]
  },
  {
   "cell_type": "code",
   "execution_count": 109,
   "id": "b9b45691-8be1-4130-86e4-59798e59aaac",
   "metadata": {},
   "outputs": [
    {
     "data": {
      "text/plain": [
       "0"
      ]
     },
     "execution_count": 109,
     "metadata": {},
     "output_type": "execute_result"
    }
   ],
   "source": [
    "min(tup2)"
   ]
  },
  {
   "cell_type": "code",
   "execution_count": 110,
   "id": "1614c2bc-07f0-4ac3-a23c-2ca44ffe4bde",
   "metadata": {},
   "outputs": [],
   "source": [
    "#use cases of sets:"
   ]
  },
  {
   "cell_type": "code",
   "execution_count": 111,
   "id": "203df0e4-3dc0-41a0-a8c0-880a76380a1d",
   "metadata": {},
   "outputs": [
    {
     "data": {
      "text/plain": [
       "set"
      ]
     },
     "execution_count": 111,
     "metadata": {},
     "output_type": "execute_result"
    }
   ],
   "source": [
    "set1={1,23,5,7,9,15}\n",
    "type(set1)"
   ]
  },
  {
   "cell_type": "code",
   "execution_count": 112,
   "id": "7ae6b49e-3a25-4552-82d3-6bd939fa665f",
   "metadata": {},
   "outputs": [],
   "source": [
    "set1.add(70)"
   ]
  },
  {
   "cell_type": "code",
   "execution_count": 113,
   "id": "a7fac75f-c56e-4c6e-a256-0c9359115f54",
   "metadata": {},
   "outputs": [
    {
     "data": {
      "text/plain": [
       "{1, 5, 7, 9, 15, 23, 70}"
      ]
     },
     "execution_count": 113,
     "metadata": {},
     "output_type": "execute_result"
    }
   ],
   "source": [
    "set1"
   ]
  },
  {
   "cell_type": "code",
   "execution_count": 114,
   "id": "ade0f649-9f15-48d8-8d86-885bc7ab8cb0",
   "metadata": {},
   "outputs": [
    {
     "data": {
      "text/plain": [
       "1"
      ]
     },
     "execution_count": 114,
     "metadata": {},
     "output_type": "execute_result"
    }
   ],
   "source": [
    "set1.pop()   #it removes arbitarily"
   ]
  },
  {
   "cell_type": "code",
   "execution_count": 115,
   "id": "c75aa056-8582-4a88-9257-47ac3668f14c",
   "metadata": {},
   "outputs": [
    {
     "data": {
      "text/plain": [
       "{5, 7, 9, 15, 23, 70}"
      ]
     },
     "execution_count": 115,
     "metadata": {},
     "output_type": "execute_result"
    }
   ],
   "source": [
    "set1"
   ]
  },
  {
   "cell_type": "code",
   "execution_count": 116,
   "id": "3668b45b-a1ad-44da-a7b5-38c9370f4bcf",
   "metadata": {},
   "outputs": [
    {
     "data": {
      "text/plain": [
       "{1, 4, 5, 7, 8, 9}"
      ]
     },
     "execution_count": 116,
     "metadata": {},
     "output_type": "execute_result"
    }
   ],
   "source": [
    "set2={7,9,8,1,8,7,5,4}\n",
    "set2"
   ]
  },
  {
   "cell_type": "code",
   "execution_count": 117,
   "id": "4f2e89e0-76df-4194-9e51-6f9fbf77254c",
   "metadata": {},
   "outputs": [
    {
     "data": {
      "text/plain": [
       "{1, 4, 5, 7, 8, 9, 15, 23, 70}"
      ]
     },
     "execution_count": 117,
     "metadata": {},
     "output_type": "execute_result"
    }
   ],
   "source": [
    "set1|set2 #union"
   ]
  },
  {
   "cell_type": "code",
   "execution_count": 118,
   "id": "ece5583a-6866-46bb-be74-5cd671027dc8",
   "metadata": {},
   "outputs": [
    {
     "data": {
      "text/plain": [
       "{5, 7, 9}"
      ]
     },
     "execution_count": 118,
     "metadata": {},
     "output_type": "execute_result"
    }
   ],
   "source": [
    "set1&set2 #intersection"
   ]
  },
  {
   "cell_type": "code",
   "execution_count": 119,
   "id": "02539fdb-5cc8-427a-a3eb-0bc5aab667a8",
   "metadata": {},
   "outputs": [
    {
     "data": {
      "text/plain": [
       "{15, 23, 70}"
      ]
     },
     "execution_count": 119,
     "metadata": {},
     "output_type": "execute_result"
    }
   ],
   "source": [
    "set1-set2 #difference"
   ]
  },
  {
   "cell_type": "code",
   "execution_count": 120,
   "id": "b14b39d7-872f-4c33-aa5f-9baf48e2ebc2",
   "metadata": {},
   "outputs": [
    {
     "data": {
      "text/plain": [
       "{1, 4, 8, 15, 23, 70}"
      ]
     },
     "execution_count": 120,
     "metadata": {},
     "output_type": "execute_result"
    }
   ],
   "source": [
    "set1^set2 #symmentric difference"
   ]
  },
  {
   "cell_type": "code",
   "execution_count": 121,
   "id": "32ecc4fc-164d-499e-99f3-d2d9d330206e",
   "metadata": {},
   "outputs": [],
   "source": [
    "# (7)Describe how to add modifys and delete items in a dictionary with examples.\n",
    "# Ans:-Dictionaries are one type of data structure which stores data in the form of key value pair.keys are unique and immutable.\n",
    "#     we can add, modify and delete the items in a dictionary by the following process:"
   ]
  },
  {
   "cell_type": "code",
   "execution_count": 122,
   "id": "9a10dd5d-91c9-4c87-b56d-0707a799df82",
   "metadata": {},
   "outputs": [
    {
     "data": {
      "text/plain": [
       "dict"
      ]
     },
     "execution_count": 122,
     "metadata": {},
     "output_type": "execute_result"
    }
   ],
   "source": [
    "d={}\n",
    "type(d)"
   ]
  },
  {
   "cell_type": "code",
   "execution_count": 123,
   "id": "5c12e033-9dd1-4a05-b14f-161fe2270e41",
   "metadata": {},
   "outputs": [
    {
     "data": {
      "text/plain": [
       "dict"
      ]
     },
     "execution_count": 123,
     "metadata": {},
     "output_type": "execute_result"
    }
   ],
   "source": [
    "d={\"name\":\"sunil\",\"adress\":\"kakatpur\",\"contact\":6371684824}\n",
    "type(d)"
   ]
  },
  {
   "cell_type": "code",
   "execution_count": 124,
   "id": "dcf49bcd-d20f-4a10-bb8e-688d4aea72ce",
   "metadata": {},
   "outputs": [
    {
     "data": {
      "text/plain": [
       "{'name': 'sunil', 'adress': 'kakatpur', 'contact': 6371684824}"
      ]
     },
     "execution_count": 124,
     "metadata": {},
     "output_type": "execute_result"
    }
   ],
   "source": [
    "d"
   ]
  },
  {
   "cell_type": "code",
   "execution_count": 125,
   "id": "74be70b5-278e-4952-99c5-4d65a86751fc",
   "metadata": {},
   "outputs": [],
   "source": [
    "d[\"school\"]=\"svm\" #we can add another keyvalue pair here by this process."
   ]
  },
  {
   "cell_type": "code",
   "execution_count": 126,
   "id": "4c4fef95-7d7f-4c99-8e57-03cc3d83fe22",
   "metadata": {},
   "outputs": [
    {
     "data": {
      "text/plain": [
       "{'name': 'sunil', 'adress': 'kakatpur', 'contact': 6371684824, 'school': 'svm'}"
      ]
     },
     "execution_count": 126,
     "metadata": {},
     "output_type": "execute_result"
    }
   ],
   "source": [
    "d"
   ]
  },
  {
   "cell_type": "code",
   "execution_count": 127,
   "id": "2abe3f07-fee0-4697-b7ab-a884b7527dc2",
   "metadata": {},
   "outputs": [],
   "source": [
    "#we can also modify the values by the help of keys.\n",
    "d[\"name\"]=\"bikash\""
   ]
  },
  {
   "cell_type": "code",
   "execution_count": 128,
   "id": "a5363c5f-7f12-4587-a7c1-2b9404c5207d",
   "metadata": {},
   "outputs": [
    {
     "data": {
      "text/plain": [
       "{'name': 'bikash',\n",
       " 'adress': 'kakatpur',\n",
       " 'contact': 6371684824,\n",
       " 'school': 'svm'}"
      ]
     },
     "execution_count": 128,
     "metadata": {},
     "output_type": "execute_result"
    }
   ],
   "source": [
    "d"
   ]
  },
  {
   "cell_type": "code",
   "execution_count": 130,
   "id": "b5d54538-1988-43fd-ac3a-e721337b5ac5",
   "metadata": {},
   "outputs": [
    {
     "data": {
      "text/plain": [
       "'kakatpur'"
      ]
     },
     "execution_count": 130,
     "metadata": {},
     "output_type": "execute_result"
    }
   ],
   "source": [
    "d.pop(\"adress\")"
   ]
  },
  {
   "cell_type": "code",
   "execution_count": 131,
   "id": "2e27549c-2c9f-4ace-a87a-b38edd69de21",
   "metadata": {},
   "outputs": [
    {
     "data": {
      "text/plain": [
       "{'name': 'bikash', 'contact': 6371684824, 'school': 'svm'}"
      ]
     },
     "execution_count": 131,
     "metadata": {},
     "output_type": "execute_result"
    }
   ],
   "source": [
    "d"
   ]
  },
  {
   "cell_type": "code",
   "execution_count": 132,
   "id": "78c1c2b7-931a-4943-9954-d3f8f9da7e8b",
   "metadata": {},
   "outputs": [],
   "source": [
    "d.clear() #removes all item from the dictionary."
   ]
  },
  {
   "cell_type": "code",
   "execution_count": 133,
   "id": "388d2236-7f34-423d-b181-ca473518753b",
   "metadata": {},
   "outputs": [
    {
     "data": {
      "text/plain": [
       "{}"
      ]
     },
     "execution_count": 133,
     "metadata": {},
     "output_type": "execute_result"
    }
   ],
   "source": [
    "d"
   ]
  },
  {
   "cell_type": "code",
   "execution_count": 134,
   "id": "3501f9bf-d6ec-425e-b654-554f3923d8a6",
   "metadata": {},
   "outputs": [],
   "source": [
    "d1={\"name\":\"akash\",\"adress\":\"puri\",\"contact\":6371684824}\n"
   ]
  },
  {
   "cell_type": "code",
   "execution_count": 135,
   "id": "49f9ed5e-bf08-4fd7-9a14-c75e8717a428",
   "metadata": {},
   "outputs": [
    {
     "data": {
      "text/plain": [
       "{'name': 'akash', 'adress': 'puri', 'contact': 6371684824}"
      ]
     },
     "execution_count": 135,
     "metadata": {},
     "output_type": "execute_result"
    }
   ],
   "source": [
    "d1"
   ]
  },
  {
   "cell_type": "code",
   "execution_count": 136,
   "id": "f8e43fa4-abbf-4130-b969-e19f872bd01d",
   "metadata": {},
   "outputs": [],
   "source": [
    "del d1 #it gives error because it completely deleted the dictionary."
   ]
  },
  {
   "cell_type": "code",
   "execution_count": 137,
   "id": "f47af53d-7354-4740-bce6-a79d3b92e2ca",
   "metadata": {},
   "outputs": [
    {
     "ename": "NameError",
     "evalue": "name 'd1' is not defined",
     "output_type": "error",
     "traceback": [
      "\u001b[0;31m---------------------------------------------------------------------------\u001b[0m",
      "\u001b[0;31mNameError\u001b[0m                                 Traceback (most recent call last)",
      "Cell \u001b[0;32mIn[137], line 1\u001b[0m\n\u001b[0;32m----> 1\u001b[0m \u001b[43md1\u001b[49m\n",
      "\u001b[0;31mNameError\u001b[0m: name 'd1' is not defined"
     ]
    }
   ],
   "source": [
    "d1 "
   ]
  },
  {
   "cell_type": "code",
   "execution_count": 138,
   "id": "2ecbad0e-7f4d-4e88-9395-e5f55de10c88",
   "metadata": {},
   "outputs": [],
   "source": [
    "# (8)Discuss the importance of dictionary keys being immutable and provide examples.\n",
    "# Ans:-Dictionary is the one type of data structure in python which store data in the form of key value pair.Keys are unique and immutable.\n"
   ]
  },
  {
   "cell_type": "code",
   "execution_count": 139,
   "id": "768cbac1-1e96-45fc-9672-e6028a0bf12f",
   "metadata": {},
   "outputs": [
    {
     "data": {
      "text/plain": [
       "'keshab'"
      ]
     },
     "execution_count": 139,
     "metadata": {},
     "output_type": "execute_result"
    }
   ],
   "source": [
    "d={\"name\":\"keshab\",\"adress\":\"bhubaneswar\",\"contact\":6371684824}\n",
    "d[\"name\"]"
   ]
  },
  {
   "cell_type": "code",
   "execution_count": 140,
   "id": "0bb654c9-6bd7-4948-ba68-89ae7a17daf1",
   "metadata": {},
   "outputs": [
    {
     "ename": "KeyError",
     "evalue": "6371684824",
     "output_type": "error",
     "traceback": [
      "\u001b[0;31m---------------------------------------------------------------------------\u001b[0m",
      "\u001b[0;31mKeyError\u001b[0m                                  Traceback (most recent call last)",
      "Cell \u001b[0;32mIn[140], line 1\u001b[0m\n\u001b[0;32m----> 1\u001b[0m \u001b[43md\u001b[49m\u001b[43m[\u001b[49m\u001b[38;5;241;43m6371684824\u001b[39;49m\u001b[43m]\u001b[49m\n",
      "\u001b[0;31mKeyError\u001b[0m: 6371684824"
     ]
    }
   ],
   "source": [
    "d[6371684824] #we can't access keys from the value."
   ]
  },
  {
   "cell_type": "code",
   "execution_count": 141,
   "id": "946e054c-6ed2-42c5-af7e-7071f556bf8e",
   "metadata": {},
   "outputs": [
    {
     "data": {
      "text/plain": [
       "dict_keys(['name', 'adress', 'contact'])"
      ]
     },
     "execution_count": 141,
     "metadata": {},
     "output_type": "execute_result"
    }
   ],
   "source": [
    "d.keys()"
   ]
  },
  {
   "cell_type": "code",
   "execution_count": 142,
   "id": "e35c8f00-0a2a-491b-af9f-4da383f3cdfc",
   "metadata": {},
   "outputs": [
    {
     "ename": "TypeError",
     "evalue": "unhashable type: 'list'",
     "output_type": "error",
     "traceback": [
      "\u001b[0;31m---------------------------------------------------------------------------\u001b[0m",
      "\u001b[0;31mTypeError\u001b[0m                                 Traceback (most recent call last)",
      "Cell \u001b[0;32mIn[142], line 1\u001b[0m\n\u001b[0;32m----> 1\u001b[0m \u001b[43md\u001b[49m\u001b[43m[\u001b[49m\u001b[43m[\u001b[49m\u001b[38;5;241;43m1\u001b[39;49m\u001b[43m,\u001b[49m\u001b[38;5;241;43m2\u001b[39;49m\u001b[43m,\u001b[49m\u001b[38;5;241;43m3\u001b[39;49m\u001b[43m]\u001b[49m\u001b[43m]\u001b[49m\u001b[38;5;241m=\u001b[39m\u001b[38;5;124m\"\u001b[39m\u001b[38;5;124mmantu\u001b[39m\u001b[38;5;124m\"\u001b[39m\n",
      "\u001b[0;31mTypeError\u001b[0m: unhashable type: 'list'"
     ]
    }
   ],
   "source": [
    "d[[1,2,3]]=\"mantu\"  #it will give error beacause of mutablity of list."
   ]
  },
  {
   "cell_type": "code",
   "execution_count": 143,
   "id": "70190690-7f53-4a63-a2fb-1ef4c9520f32",
   "metadata": {},
   "outputs": [],
   "source": [
    "#mutable objects can't be the key of dictionary."
   ]
  },
  {
   "cell_type": "code",
   "execution_count": 144,
   "id": "59e5f654-136b-4a79-ae51-5e026068adc0",
   "metadata": {},
   "outputs": [],
   "source": [
    "d[(1,2,3)]=\"mantu\" #here tuple is a immutable data type."
   ]
  },
  {
   "cell_type": "code",
   "execution_count": 145,
   "id": "cf2216e4-c238-4fec-8140-9a31f89375a7",
   "metadata": {},
   "outputs": [
    {
     "data": {
      "text/plain": [
       "{'name': 'keshab',\n",
       " 'adress': 'bhubaneswar',\n",
       " 'contact': 6371684824,\n",
       " (1, 2, 3): 'mantu'}"
      ]
     },
     "execution_count": 145,
     "metadata": {},
     "output_type": "execute_result"
    }
   ],
   "source": [
    "d"
   ]
  },
  {
   "cell_type": "code",
   "execution_count": 146,
   "id": "ed76f19a-6475-473f-a49d-9c23df341aa7",
   "metadata": {},
   "outputs": [],
   "source": [
    "d[1]=\"skn\" #integer also can be used  as a key."
   ]
  },
  {
   "cell_type": "code",
   "execution_count": 147,
   "id": "85af3edf-5f0a-45e8-88fa-58ecc9d2dc96",
   "metadata": {},
   "outputs": [
    {
     "data": {
      "text/plain": [
       "{'name': 'keshab',\n",
       " 'adress': 'bhubaneswar',\n",
       " 'contact': 6371684824,\n",
       " (1, 2, 3): 'mantu',\n",
       " 1: 'skn'}"
      ]
     },
     "execution_count": 147,
     "metadata": {},
     "output_type": "execute_result"
    }
   ],
   "source": [
    "d"
   ]
  },
  {
   "cell_type": "code",
   "execution_count": 148,
   "id": "07ba223f-a9b5-4f28-a4f6-792bde6e2764",
   "metadata": {},
   "outputs": [
    {
     "ename": "SyntaxError",
     "evalue": "invalid syntax (471094463.py, line 1)",
     "output_type": "error",
     "traceback": [
      "\u001b[0;36m  Cell \u001b[0;32mIn[148], line 1\u001b[0;36m\u001b[0m\n\u001b[0;31m    d[@]=\"mkl\"\u001b[0m\n\u001b[0m      ^\u001b[0m\n\u001b[0;31mSyntaxError\u001b[0m\u001b[0;31m:\u001b[0m invalid syntax\n"
     ]
    }
   ],
   "source": [
    "d[@]=\"mkl\" #no special character can be used as a key."
   ]
  },
  {
   "cell_type": "code",
   "execution_count": null,
   "id": "4bebb337-8564-48b4-91d4-fe2f69347508",
   "metadata": {},
   "outputs": [],
   "source": []
  }
 ],
 "metadata": {
  "kernelspec": {
   "display_name": "Python 3 (ipykernel)",
   "language": "python",
   "name": "python3"
  },
  "language_info": {
   "codemirror_mode": {
    "name": "ipython",
    "version": 3
   },
   "file_extension": ".py",
   "mimetype": "text/x-python",
   "name": "python",
   "nbconvert_exporter": "python",
   "pygments_lexer": "ipython3",
   "version": "3.10.8"
  }
 },
 "nbformat": 4,
 "nbformat_minor": 5
}
