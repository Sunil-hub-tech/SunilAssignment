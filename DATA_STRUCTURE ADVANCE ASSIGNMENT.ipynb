{
 "cells": [
  {
   "cell_type": "code",
   "execution_count": 2,
   "id": "b9f8c202-f008-49f7-a754-739556d040e9",
   "metadata": {},
   "outputs": [
    {
     "data": {
      "text/plain": [
       "'Welcome to the pwskills, sunil'"
      ]
     },
     "execution_count": 2,
     "metadata": {},
     "output_type": "execute_result"
    }
   ],
   "source": [
    "# (1)Write a code to reverse a string.\n",
    "# Ans:-let the string be-\n",
    "A=\"Welcome to the pwskills, sunil\"\n",
    "A\n"
   ]
  },
  {
   "cell_type": "code",
   "execution_count": 3,
   "id": "4ef10136-ba37-4c68-ab02-904ba01b4ba4",
   "metadata": {},
   "outputs": [
    {
     "data": {
      "text/plain": [
       "'linus ,sllikswp eht ot emocleW'"
      ]
     },
     "execution_count": 3,
     "metadata": {},
     "output_type": "execute_result"
    }
   ],
   "source": [
    "A[ : : -1] #here the string is reversed completely by one step."
   ]
  },
  {
   "cell_type": "code",
   "execution_count": 4,
   "id": "e3dc6eb5-8d4f-43d7-b813-af3fcd2bb1b4",
   "metadata": {},
   "outputs": [
    {
     "data": {
      "text/plain": [
       "'lns,lispeto mce'"
      ]
     },
     "execution_count": 4,
     "metadata": {},
     "output_type": "execute_result"
    }
   ],
   "source": [
    "A[ : :-2] #here the string is reversed by two steps."
   ]
  },
  {
   "cell_type": "code",
   "execution_count": 5,
   "id": "e9b82bd3-819c-4d43-b3e4-5c3a2ff58caf",
   "metadata": {},
   "outputs": [
    {
     "data": {
      "text/plain": [
       "'lu,ls ttml'"
      ]
     },
     "execution_count": 5,
     "metadata": {},
     "output_type": "execute_result"
    }
   ],
   "source": [
    "A[ : :-3] #here the string is reversed by three steps."
   ]
  },
  {
   "cell_type": "code",
   "execution_count": 1,
   "id": "e9669d9d-4d46-40dd-8bc2-81e66ef751ea",
   "metadata": {},
   "outputs": [
    {
     "name": "stdout",
     "output_type": "stream",
     "text": [
      "Number of vowels in the given string is:  7\n"
     ]
    }
   ],
   "source": [
    "# (2)Write a code to count the number of vowels in a string.\n",
    "#Ans:-Let the string be-\n",
    "string1 = \"I am in the office\"\n",
    "count = 0\n",
    "vowels = [\"a\", \"e\", \"i\", \"o\", \"u\",\"A\",\"E\",\"I\",\"O\",\"U\"]\n",
    "\n",
    "for i in range(len(string1)):\n",
    "    if string1[i] in vowels:\n",
    "        count += 1\n",
    "print(\"Number of vowels in the given string is: \", count)\n",
    "            "
   ]
  },
  {
   "cell_type": "code",
   "execution_count": 6,
   "id": "313f0e8f-369a-4781-b889-9161682934f5",
   "metadata": {},
   "outputs": [
    {
     "name": "stdin",
     "output_type": "stream",
     "text": [
      " madam\n"
     ]
    },
    {
     "name": "stdout",
     "output_type": "stream",
     "text": [
      "true\n"
     ]
    }
   ],
   "source": [
    "#(3)Write a code to check if a given string is a palindrome or not.\n",
    "#Ans:-when a string is reversed by using some code it remains same.Then we will know the string is palindrome string.\n",
    "#lets take two example to understand the palindrome concept.\n",
    "#example1:\n",
    "A=input()\n",
    "if A[ : :-1]==A:\n",
    "    print(\"true\")\n",
    "else:\n",
    "    print(\"false\")"
   ]
  },
  {
   "cell_type": "code",
   "execution_count": 5,
   "id": "ddfa59c3-7687-4190-a0de-01c95bab2c48",
   "metadata": {},
   "outputs": [
    {
     "name": "stdin",
     "output_type": "stream",
     "text": [
      " sunilkumarnayak\n",
      " kumarsunilnayak\n"
     ]
    },
    {
     "name": "stdout",
     "output_type": "stream",
     "text": [
      "Both strings are anagrams of each other\n"
     ]
    }
   ],
   "source": [
    "#(4) Write a code to check if two given strings are anagrams of each other.\n",
    "#Ans:-Two strings are anagrams of each other means both contains same characters but in different orders.\n",
    "#lets check:\n",
    "string1=input()\n",
    "string2=input()\n",
    "if sorted(string1)==sorted(string2):\n",
    "    print(\"Both strings are anagrams of each other\")\n",
    "else:\n",
    "    print(\"Both strings are not anagrams of each other\")\n",
    "    "
   ]
  },
  {
   "cell_type": "code",
   "execution_count": 17,
   "id": "b089cbac-c7cb-47bc-9edd-a5dca2278b7f",
   "metadata": {},
   "outputs": [
    {
     "name": "stdout",
     "output_type": "stream",
     "text": [
      "All occurance of substring in mainstring\n",
      "All occurance of substring in mainstring\n",
      "All occurance of substring in mainstring\n",
      "All occurance of substring in mainstring\n",
      "All occurance of substring in mainstring\n",
      "All occurance of substring in mainstring\n"
     ]
    }
   ],
   "source": [
    "#(5)Write a code to find all occurrences of a given substring within another string.\n",
    "#Ans:-Lets check with an example:\n",
    "main_string=\"I have an interest to do coding\"\n",
    "sub_string1=\"coding\"\n",
    "for i in sub_string1:\n",
    "    if i not in main_string:\n",
    "        print(\"All occurance of substring is not present in mainstring\")\n",
    "    else:\n",
    "        print(\"All occurance of substring in mainstring\")"
   ]
  },
  {
   "cell_type": "code",
   "execution_count": 38,
   "id": "8867bb23-67ee-4fe9-a47b-d59b951bec5c",
   "metadata": {},
   "outputs": [
    {
     "name": "stdout",
     "output_type": "stream",
     "text": [
      "p1w1s1k1i1l2s1\n"
     ]
    }
   ],
   "source": [
    "#(6)Write a code to perform basic string compression using the counts of repeated characters.\n",
    "#Ans:-\n",
    "s=\"pwskills\"\n",
    "def compress_string(s):\n",
    "    if not s:\n",
    "        return \"\"\n",
    "    count = 1\n",
    "    i = 1\n",
    "    while i < len(s) and s[i] == s[i - 1]:\n",
    "        i += 1\n",
    "        count += 1\n",
    "    return s[0] + str(count) + compress_string(s[i:])\n",
    "print(compress_string(s))"
   ]
  },
  {
   "cell_type": "code",
   "execution_count": 8,
   "id": "9a6fc39d-095d-453b-9850-80e5e652c9ae",
   "metadata": {},
   "outputs": [
    {
     "name": "stdin",
     "output_type": "stream",
     "text": [
      " i am a good dancer\n"
     ]
    },
    {
     "name": "stdout",
     "output_type": "stream",
     "text": [
      "not unique\n"
     ]
    }
   ],
   "source": [
    "#(7)Write a code to determine if a string has all unique characters.\n",
    "#Ans:-\n",
    "string=input()\n",
    "str1=[]\n",
    "for i in string:\n",
    "    if i in str1:\n",
    "        print(\"not unique\")\n",
    "        break\n",
    "    else:\n",
    "        str1.append(i)\n",
    "str2=\"\".join(str1)      \n",
    "if str2==string:\n",
    "    print(\"all characters are unique\")"
   ]
  },
  {
   "cell_type": "code",
   "execution_count": null,
   "id": "5db9d903-5599-4755-8bac-c83b1be762d3",
   "metadata": {},
   "outputs": [],
   "source": [
    "#(8)Write a code to convert a given string to uppercase or lowercase.\n",
    "#Ans:-\n",
    "sk=\"welcome to the office sunil\""
   ]
  },
  {
   "cell_type": "code",
   "execution_count": 91,
   "id": "d0a686da-2d4d-4be1-a47b-288894e43396",
   "metadata": {},
   "outputs": [],
   "source": [
    "L=sk.upper()"
   ]
  },
  {
   "cell_type": "code",
   "execution_count": 92,
   "id": "8ae39d68-3e8c-471c-b281-d3a25fa35a18",
   "metadata": {},
   "outputs": [
    {
     "data": {
      "text/plain": [
       "'WELCOME TO THE OFFICE SUNIL'"
      ]
     },
     "execution_count": 92,
     "metadata": {},
     "output_type": "execute_result"
    }
   ],
   "source": [
    "L"
   ]
  },
  {
   "cell_type": "code",
   "execution_count": 93,
   "id": "bcda0ed3-b79c-4d32-90ac-cb5179e02ac4",
   "metadata": {},
   "outputs": [
    {
     "data": {
      "text/plain": [
       "'welcome to the office sunil'"
      ]
     },
     "execution_count": 93,
     "metadata": {},
     "output_type": "execute_result"
    }
   ],
   "source": [
    "L.lower()"
   ]
  },
  {
   "cell_type": "code",
   "execution_count": 7,
   "id": "b8a2f58b-ed92-4648-aa62-53312389c8da",
   "metadata": {},
   "outputs": [
    {
     "name": "stdin",
     "output_type": "stream",
     "text": [
      "Enter a string: he is more smarter than me\n"
     ]
    },
    {
     "name": "stdout",
     "output_type": "stream",
     "text": [
      "the number of words in this string is : 6\n"
     ]
    }
   ],
   "source": [
    "#(9)Write a code to count the number of words in a string.\n",
    "#Ans:- \n",
    "str1=input(\"Enter a string:\")\n",
    "str2=str1.split(\" \")\n",
    "words=len(str2)\n",
    "print(\"the number of words in this string is :\",words)"
   ]
  },
  {
   "cell_type": "code",
   "execution_count": 104,
   "id": "90ae485e-8578-415f-9440-864f1896046f",
   "metadata": {},
   "outputs": [],
   "source": [
    "#(10) Write a code to concatenate two strings without using the + operator.\n",
    "#Ans:-\n",
    "string1=\"sunil kumar\"\n",
    "string2=\"nayak\"\n",
    "string3=\" \".join([string1,string2])"
   ]
  },
  {
   "cell_type": "code",
   "execution_count": 105,
   "id": "6faff466-7a36-46a7-a39c-3cd0be24af0b",
   "metadata": {},
   "outputs": [
    {
     "name": "stdout",
     "output_type": "stream",
     "text": [
      "sunil kumar nayak\n"
     ]
    }
   ],
   "source": [
    "print(string3)"
   ]
  },
  {
   "cell_type": "code",
   "execution_count": 106,
   "id": "201fab3c-a9f6-406a-976f-73ec23a2039f",
   "metadata": {},
   "outputs": [
    {
     "data": {
      "text/plain": [
       "'sunil kumar nayak'"
      ]
     },
     "execution_count": 106,
     "metadata": {},
     "output_type": "execute_result"
    }
   ],
   "source": [
    "string3"
   ]
  },
  {
   "cell_type": "code",
   "execution_count": 116,
   "id": "374d652a-aaf6-4225-bbe4-85c5f36a3cde",
   "metadata": {},
   "outputs": [
    {
     "data": {
      "text/plain": [
       "[1, 2, 3, 'sunil', 'bikash', True, (6+5j), [4, 5, 6]]"
      ]
     },
     "execution_count": 116,
     "metadata": {},
     "output_type": "execute_result"
    }
   ],
   "source": [
    "#(11)Write a code to remove all occurrences of a specific element from a list.\n",
    "#Ans:-\n",
    "lis=[1,2,3,\"sunil\",\"bikash\",True,6+5j,[4,5,6]]\n",
    "lis"
   ]
  },
  {
   "cell_type": "code",
   "execution_count": 117,
   "id": "f202b9d2-823e-45fc-ad06-a6294a32b621",
   "metadata": {},
   "outputs": [],
   "source": [
    "lis.remove(\"sunil\")"
   ]
  },
  {
   "cell_type": "code",
   "execution_count": 118,
   "id": "6242ee04-dbb1-49ae-81ec-d46086bd742e",
   "metadata": {},
   "outputs": [
    {
     "data": {
      "text/plain": [
       "[1, 2, 3, 'bikash', True, (6+5j), [4, 5, 6]]"
      ]
     },
     "execution_count": 118,
     "metadata": {},
     "output_type": "execute_result"
    }
   ],
   "source": [
    "lis"
   ]
  },
  {
   "cell_type": "code",
   "execution_count": 119,
   "id": "4003a067-c65e-4eae-9704-a81222969013",
   "metadata": {},
   "outputs": [],
   "source": [
    "lis.remove(1)"
   ]
  },
  {
   "cell_type": "code",
   "execution_count": 120,
   "id": "c30e4901-86fb-4ede-b212-d2b63eba49c3",
   "metadata": {},
   "outputs": [
    {
     "data": {
      "text/plain": [
       "[2, 3, 'bikash', True, (6+5j), [4, 5, 6]]"
      ]
     },
     "execution_count": 120,
     "metadata": {},
     "output_type": "execute_result"
    }
   ],
   "source": [
    "lis"
   ]
  },
  {
   "cell_type": "code",
   "execution_count": 121,
   "id": "f6d03d80-6554-4e90-bbad-89d2ec67d298",
   "metadata": {},
   "outputs": [],
   "source": [
    "lis.clear() #here it clears all the element from the list."
   ]
  },
  {
   "cell_type": "code",
   "execution_count": 122,
   "id": "fa8f4f80-897e-4661-8237-a3dcb4a59086",
   "metadata": {},
   "outputs": [
    {
     "data": {
      "text/plain": [
       "[]"
      ]
     },
     "execution_count": 122,
     "metadata": {},
     "output_type": "execute_result"
    }
   ],
   "source": [
    "lis"
   ]
  },
  {
   "cell_type": "code",
   "execution_count": 25,
   "id": "7fb3b4e7-cb6c-44e8-b69b-2f83e9e33e67",
   "metadata": {},
   "outputs": [
    {
     "name": "stdout",
     "output_type": "stream",
     "text": [
      "second largest number is 85\n"
     ]
    }
   ],
   "source": [
    "#(12) Implement a code to find the second largest number in a given list of integers.\n",
    "#Ans:-\n",
    "list1=[5,7,8,42,54,92,47,85,25]\n",
    "list1.remove(max(list1))\n",
    "print(f\"second largest number is {max(list1)}\")\n",
    "    \n"
   ]
  },
  {
   "cell_type": "code",
   "execution_count": 10,
   "id": "7660791b-8d80-4ac0-8ffc-2032e6442b5b",
   "metadata": {},
   "outputs": [
    {
     "data": {
      "text/plain": [
       "{False: 3, 1: 3, 2.2: 2, 'sunil': 2}"
      ]
     },
     "execution_count": 10,
     "metadata": {},
     "output_type": "execute_result"
    }
   ],
   "source": [
    "# (13)Create a code to count the occurrences of each element in a list and return a dictionary with elements as keys and their counts as value.\n",
    "#Ans:-\n",
    "list1=[1,\"sunil\",False,2.2,\"sunil\",1,1,2.2,False,False]\n",
    "list2=[]\n",
    "for i in set(list1):\n",
    "    list2.append(list1.count(i))\n",
    "{j:k for j , k in zip(set(list1),list2)}"
   ]
  },
  {
   "cell_type": "code",
   "execution_count": 138,
   "id": "409c857b-d894-4c1c-96e1-3455d07ee025",
   "metadata": {},
   "outputs": [],
   "source": [
    "#(14)Write a code to reverse a list in-place without using any built-in reverse functions.\n",
    "#Ans:-\n",
    "lis1=[1,4,5,\"sunil\",\"bikash\",True,5+6J,[1,4,5]]"
   ]
  },
  {
   "cell_type": "code",
   "execution_count": 139,
   "id": "7e922da8-ddf1-48d1-bf3e-38180f9850bf",
   "metadata": {},
   "outputs": [
    {
     "data": {
      "text/plain": [
       "[1, 4, 5, 'sunil', 'bikash', True, (5+6j), [1, 4, 5]]"
      ]
     },
     "execution_count": 139,
     "metadata": {},
     "output_type": "execute_result"
    }
   ],
   "source": [
    "lis1"
   ]
  },
  {
   "cell_type": "code",
   "execution_count": 140,
   "id": "7918bede-e79f-46a5-93f1-09bc3bc18a6f",
   "metadata": {},
   "outputs": [
    {
     "data": {
      "text/plain": [
       "[[1, 4, 5], (5+6j), True, 'bikash', 'sunil', 5, 4, 1]"
      ]
     },
     "execution_count": 140,
     "metadata": {},
     "output_type": "execute_result"
    }
   ],
   "source": [
    "lis1[ : :-1]"
   ]
  },
  {
   "cell_type": "code",
   "execution_count": 13,
   "id": "5778e0dc-b4eb-411d-9158-a4ee9f0aea86",
   "metadata": {},
   "outputs": [
    {
     "data": {
      "text/plain": [
       "['sunil', 'bikash', 1, 2, 4, 2, 5, 9, 'sunil']"
      ]
     },
     "execution_count": 13,
     "metadata": {},
     "output_type": "execute_result"
    }
   ],
   "source": [
    "#(15)Implement a code to find and remove duplicates from a list while preserving the original order of elements.\n",
    "#Ans:-\n",
    "list1=[\"sunil\",\"bikash\",1,2,4,2,5,9,\"sunil\"]\n",
    "list1"
   ]
  },
  {
   "cell_type": "code",
   "execution_count": 2,
   "id": "b9592c48-f5dc-4327-a6ef-76f22a2352e9",
   "metadata": {},
   "outputs": [
    {
     "data": {
      "text/plain": [
       "2"
      ]
     },
     "execution_count": 2,
     "metadata": {},
     "output_type": "execute_result"
    }
   ],
   "source": [
    "list1.count(\"sunil\")"
   ]
  },
  {
   "cell_type": "code",
   "execution_count": 3,
   "id": "21a8cb60-471f-4c4c-a4a3-865a4b7de17b",
   "metadata": {},
   "outputs": [],
   "source": [
    "list1.remove(\"sunil\")"
   ]
  },
  {
   "cell_type": "code",
   "execution_count": 4,
   "id": "090a3944-72a7-4e88-be14-1bb7160c3c6b",
   "metadata": {},
   "outputs": [
    {
     "data": {
      "text/plain": [
       "['bikash', 1, 2, 4, 2, 5, 9, True, 'sunil']"
      ]
     },
     "execution_count": 4,
     "metadata": {},
     "output_type": "execute_result"
    }
   ],
   "source": [
    "list1"
   ]
  },
  {
   "cell_type": "code",
   "execution_count": 5,
   "id": "6d160108-17b1-415d-906e-7c3596bb3724",
   "metadata": {},
   "outputs": [
    {
     "data": {
      "text/plain": [
       "2"
      ]
     },
     "execution_count": 5,
     "metadata": {},
     "output_type": "execute_result"
    }
   ],
   "source": [
    "list1.count(2)"
   ]
  },
  {
   "cell_type": "code",
   "execution_count": 6,
   "id": "e2727929-62c8-4395-8a44-c42f9ca4f27e",
   "metadata": {},
   "outputs": [],
   "source": [
    "list1.remove(2)"
   ]
  },
  {
   "cell_type": "code",
   "execution_count": 7,
   "id": "4d37614c-3ece-4f41-adc8-6f7376a0f1a0",
   "metadata": {},
   "outputs": [
    {
     "data": {
      "text/plain": [
       "['bikash', 1, 4, 2, 5, 9, True, 'sunil']"
      ]
     },
     "execution_count": 7,
     "metadata": {},
     "output_type": "execute_result"
    }
   ],
   "source": [
    "list1"
   ]
  },
  {
   "cell_type": "code",
   "execution_count": 14,
   "id": "cd09443d-48c1-4d63-81a7-90ee8eab2e7f",
   "metadata": {},
   "outputs": [
    {
     "name": "stdout",
     "output_type": "stream",
     "text": [
      "this is not sorted\n"
     ]
    }
   ],
   "source": [
    "#(16)Create a code to check if a given list is sorted (either in ascending or descending order) or not.\n",
    "#Ans:-\n",
    "K=[\"apple\",\"banana\",\"potato\",\"tamato\",\"onion\",\"brinjal\"]\n",
    "if sorted(K)==K:\n",
    "    print(\"this list is sorted in ascending order\")\n",
    "elif sorted(K)[ : :-1]==K:\n",
    "    print(\"this is sorted in descending order\")\n",
    "else:\n",
    "    print(\"this is not sorted\")\n"
   ]
  },
  {
   "cell_type": "code",
   "execution_count": 4,
   "id": "00dfbc8d-a3d4-4a61-844e-920d3862fe79",
   "metadata": {},
   "outputs": [],
   "source": [
    "#(17)Write a code to merge two sorted lists into a single sorted list.\n",
    "#Ans:-\n",
    "l1=[\"akash\",\"sunil\",\"rahul\"]\n",
    "l2=[\"babu\",\"ramesh\",\"himesh\"]\n",
    "l3=sorted(l1)\n",
    "l4=sorted(l2)\n",
    "l5=l3+l4\n",
    "l6=sorted(l5)\n"
   ]
  },
  {
   "cell_type": "code",
   "execution_count": 5,
   "id": "37ce00c1-2e39-4313-8b38-05c638631254",
   "metadata": {},
   "outputs": [
    {
     "data": {
      "text/plain": [
       "['akash', 'babu', 'himesh', 'rahul', 'ramesh', 'sunil']"
      ]
     },
     "execution_count": 5,
     "metadata": {},
     "output_type": "execute_result"
    }
   ],
   "source": [
    "l6\n"
   ]
  },
  {
   "cell_type": "code",
   "execution_count": 27,
   "id": "d9bc36c1-3651-4ff8-a5c1-676d96a0bfae",
   "metadata": {},
   "outputs": [],
   "source": [
    "#(18)Implement a code to find the intersection of two given lists.\n",
    "#Ans:-\n",
    "lis=[\"sunil\",\"bikash\",\"param\",1,2,3,True]\n",
    "lis1=[\"sunil\",\"yadab\",2,False]\n",
    "lis2=[]\n",
    "for i in lis:\n",
    "    for j in lis1:\n",
    "        for k in lis and lis1:\n",
    "            if i==j==k:\n",
    "                lis2.append(k)\n",
    "        "
   ]
  },
  {
   "cell_type": "code",
   "execution_count": 28,
   "id": "5682fab8-f35d-409c-994c-783a2760bb0f",
   "metadata": {},
   "outputs": [
    {
     "data": {
      "text/plain": [
       "['sunil', 2]"
      ]
     },
     "execution_count": 28,
     "metadata": {},
     "output_type": "execute_result"
    }
   ],
   "source": [
    "lis2"
   ]
  },
  {
   "cell_type": "code",
   "execution_count": 22,
   "id": "1093d6cb-ce2c-42ef-af64-bf8adef9014a",
   "metadata": {},
   "outputs": [
    {
     "data": {
      "text/plain": [
       "[1, 3, 4, 5, 6, 8, 10, 20, 30]"
      ]
     },
     "execution_count": 22,
     "metadata": {},
     "output_type": "execute_result"
    }
   ],
   "source": [
    "#(19)Create a code to find the union of two lists without duplicates.\n",
    "#Ans:-\n",
    "A=[1,4,6,5,3,5,8]\n",
    "B=[10,20,1,4,30]\n",
    "list(set(A)|set(B))\n",
    "            "
   ]
  },
  {
   "cell_type": "code",
   "execution_count": 6,
   "id": "620f571f-3895-42fb-af88-32591dff4701",
   "metadata": {},
   "outputs": [],
   "source": [
    "#(20)Write a code to shuffle a given list randomly without using any built-in shuffle functions."
   ]
  },
  {
   "cell_type": "code",
   "execution_count": 29,
   "id": "5235d1b7-d9e7-4722-ac22-80bfd6d86249",
   "metadata": {},
   "outputs": [
    {
     "data": {
      "text/plain": [
       "(2, 'aryan', 'bikash', 9, 47)"
      ]
     },
     "execution_count": 29,
     "metadata": {},
     "output_type": "execute_result"
    }
   ],
   "source": [
    "#(21)Write a code that takes two tuples as input and returns a new tuple containing elements that are common to both input tuples.\n",
    "#Ans:-\n",
    "t1=(1,2,5,\"sunil\",\"bikash\",\"aryan\",9,47)\n",
    "t2=(2,3,7,\"bikash\",9,47,\"aryan\")\n",
    "t3=tuple(set(t1)&set(t2))\n",
    "t3"
   ]
  },
  {
   "cell_type": "code",
   "execution_count": 44,
   "id": "b6f356d1-45cb-4df4-a409-832e2133fd03",
   "metadata": {},
   "outputs": [
    {
     "name": "stdout",
     "output_type": "stream",
     "text": [
      "{2, 12, 4, 5}\n"
     ]
    }
   ],
   "source": [
    "# (22) Create a code that prompts the user to enter two sets of integers separated by commas. Then print the intersection of these two sets.\n",
    "#Ans:-\n",
    "s1={1,2,4,5,10,12,17}\n",
    "s2={7,5,4,3,2,8,12}\n",
    "print(s1&s2)"
   ]
  },
  {
   "cell_type": "code",
   "execution_count": 47,
   "id": "9b25948b-2af2-4b2b-9820-f5ebecc391be",
   "metadata": {},
   "outputs": [
    {
     "data": {
      "text/plain": [
       "(1, 7, 'sunil', 9, 'bikash', 8, 12, 4, 'aryan', 'akash')"
      ]
     },
     "execution_count": 47,
     "metadata": {},
     "output_type": "execute_result"
    }
   ],
   "source": [
    "#(23)Write a code to concatenate two tuples. The function should take two tuples as input and return a new tuple containing elements from both input tuples.\n",
    "#Ans:-\n",
    "t1=(1,7,\"sunil\",9,\"bikash\")\n",
    "t2=(8,12,4,\"aryan\",\"akash\")\n",
    "t3=t1+t2\n",
    "t3"
   ]
  },
  {
   "cell_type": "code",
   "execution_count": 48,
   "id": "e300b4b8-d080-44d9-b2b9-87c62795f6af",
   "metadata": {},
   "outputs": [
    {
     "name": "stdout",
     "output_type": "stream",
     "text": [
      "{'bikash', 'sunil'}\n"
     ]
    }
   ],
   "source": [
    "#(24)Develop a code that prompts the user to input two sets of strings. Then print the elements that are present in the first set but not in the second set.\n",
    "#Ans:-\n",
    "s1={\"sunil\",\"bikash\",\"akash\"}\n",
    "s2={\"akash\",\"bhairav\",\"ajay\"}\n",
    "print(s1-s2)"
   ]
  },
  {
   "cell_type": "code",
   "execution_count": 11,
   "id": "4f812f3f-5ca4-497c-86f1-88b85af2b297",
   "metadata": {},
   "outputs": [],
   "source": [
    "#(25) Create a code that takes a tuple and two integers as input. The function should return a new tuple containing elements from the original tuple within the specified range of indices."
   ]
  },
  {
   "cell_type": "code",
   "execution_count": 1,
   "id": "44e51b0d-863e-4c4f-b56d-034b009f3c09",
   "metadata": {},
   "outputs": [
    {
     "name": "stdout",
     "output_type": "stream",
     "text": [
      "{'s', 'k', 'b', 'u', 'h', 'l', 'n', 'i', 'a'}\n"
     ]
    }
   ],
   "source": [
    "#(26)Write a code that prompts the user to input two sets of characters. Then print the union of these two sets.\n",
    "#Ans:-\n",
    "s1={\"s\",\"u\",\"n\",\"i\",\"l\"}\n",
    "s2={\"b\",\"i\",\"k\",\"a\",\"s\",\"h\"}\n",
    "print(s1|s2)\n"
   ]
  },
  {
   "cell_type": "code",
   "execution_count": 2,
   "id": "a9c0561e-b947-4df9-bc78-c417d1cf2e1e",
   "metadata": {},
   "outputs": [
    {
     "name": "stdout",
     "output_type": "stream",
     "text": [
      "101 1\n"
     ]
    }
   ],
   "source": [
    "#(27)Develop a code that takes a tuple of integers as input. The function should return the maximum and minimum values from the tuple using tuple unpacking.\n",
    "#Ans:-\n",
    "t1=(1,2,5,99,101,77,34,7)\n",
    "print(max(t1),min(t1))"
   ]
  },
  {
   "cell_type": "code",
   "execution_count": 3,
   "id": "cbb27904-e441-4158-aa1e-5493819c0ed2",
   "metadata": {},
   "outputs": [
    {
     "name": "stdout",
     "output_type": "stream",
     "text": [
      "{1, 4, 5, 6, 7, 8, 9, 10, 13, 15, 17}\n",
      "{1, 4, 6, 8, 9}\n",
      "{5, 7}\n"
     ]
    }
   ],
   "source": [
    "#(28)Create a code that defines two sets of integers. Then print the union ,intersection and difference of these two sets.\n",
    "#Ans:-\n",
    "set1={1,5,7,8,9,4,6}\n",
    "set2={1,6,4,8,9,10,13,15,17}\n",
    "print(set1|set2) #union of two sets.\n",
    "print(set1&set2) #intersection of two sets.\n",
    "print(set1-set2) #difference of two sets."
   ]
  },
  {
   "cell_type": "code",
   "execution_count": 15,
   "id": "e9daba65-4ccd-4346-9022-a57563520111",
   "metadata": {},
   "outputs": [],
   "source": [
    "#(29)Write a code that takes a tuple and an element as input. The function should return the count of occurrences of the given element in the tuple."
   ]
  },
  {
   "cell_type": "code",
   "execution_count": 4,
   "id": "76340c49-acf7-4dfa-8bce-9cbeb101e082",
   "metadata": {},
   "outputs": [
    {
     "name": "stdout",
     "output_type": "stream",
     "text": [
      "{'banana', 'brinjal', 'cocanut', 'potato'}\n"
     ]
    }
   ],
   "source": [
    "#(30)Develop a code that prompts the user to input two sets of strings. Then print the symmetric difference of these two sets.\n",
    "#Ans:-\n",
    "A={\"apple\",\"banana\",\"orange\",\"cocanut\"}\n",
    "B={\"apple\",\"potato\",\"brinjal\",\"orange\"}\n",
    "print(A^B) #symmetric difference"
   ]
  },
  {
   "cell_type": "code",
   "execution_count": 5,
   "id": "dfb3a03a-895d-4423-8612-36bb16fa3ce4",
   "metadata": {},
   "outputs": [
    {
     "data": {
      "text/plain": [
       "{'title': 2, 'name': 1, 'adress': 2}"
      ]
     },
     "execution_count": 5,
     "metadata": {},
     "output_type": "execute_result"
    }
   ],
   "source": [
    "#(31)Write a code that takes a list of words as input and returns a dictionary where the keys are unique words and the values are the frequencies of those words in the input list.\n",
    "#Ans:-\n",
    "list1=[\"name\",\"title\",\"adress\",\"title\",\"adress\"]\n",
    "list2=[]\n",
    "for i in set(list1):\n",
    "    list2.append(list1.count(i))\n",
    "{j:k for j , k in zip(set(list1),list2)}"
   ]
  },
  {
   "cell_type": "code",
   "execution_count": 10,
   "id": "512af18e-9062-4646-8f0d-f4320380acc7",
   "metadata": {},
   "outputs": [],
   "source": [
    "#(32)Write a code that takes two dictionaries as input and merges them into a single dictionary. If there are common keys the values should be added together.\n",
    "#Ans:-\n",
    "d1={\"name\":\"sunil\",\"adress\":\"kakatpur\",\"contact\":1234}\n",
    "d2={\"emailid\":\"su740@\",\"contact\":4789}\n",
    "d1.update(d2)"
   ]
  },
  {
   "cell_type": "code",
   "execution_count": 11,
   "id": "73b89398-a8b9-4527-9fb5-dada3e3b3190",
   "metadata": {},
   "outputs": [
    {
     "data": {
      "text/plain": [
       "{'name': 'sunil', 'adress': 'kakatpur', 'contact': 4789, 'emailid': 'su740@'}"
      ]
     },
     "execution_count": 11,
     "metadata": {},
     "output_type": "execute_result"
    }
   ],
   "source": [
    "d1"
   ]
  },
  {
   "cell_type": "code",
   "execution_count": 20,
   "id": "fea1b79d-45a7-4930-b7d1-edbeae337823",
   "metadata": {},
   "outputs": [],
   "source": [
    "#(33)Write a code to access a value in a nested dictionary. The function should take the dictionary and a list of keys as input and return the corresponding value. If any of the keys do not exist in the dictionary ,the function should return None. "
   ]
  },
  {
   "cell_type": "code",
   "execution_count": null,
   "id": "c09c94fa-1b99-43de-bfd5-c142981ffaaf",
   "metadata": {},
   "outputs": [],
   "source": []
  },
  {
   "cell_type": "code",
   "execution_count": 21,
   "id": "b5709e49-815c-481a-96e6-85e48457760c",
   "metadata": {},
   "outputs": [],
   "source": [
    "#(34) Write a code that takes a dictionary as input and returns a sorted version of it based on the values. You can choose whether to sort in ascending or descending order."
   ]
  },
  {
   "cell_type": "code",
   "execution_count": 22,
   "id": "cc674488-1bf7-4bb6-af1e-e2714a15134c",
   "metadata": {},
   "outputs": [],
   "source": [
    "#(35)Write a code that inverts a dictionary swapping keys and values. Ensure that the inverted dictionary correctly handles cases where multipl keys have the same value by storing the keys as a list in the inverted dictionary."
   ]
  },
  {
   "cell_type": "code",
   "execution_count": null,
   "id": "5feff2bd-66c2-4a66-b0da-dc74edf456ed",
   "metadata": {},
   "outputs": [],
   "source": []
  }
 ],
 "metadata": {
  "kernelspec": {
   "display_name": "Python 3 (ipykernel)",
   "language": "python",
   "name": "python3"
  },
  "language_info": {
   "codemirror_mode": {
    "name": "ipython",
    "version": 3
   },
   "file_extension": ".py",
   "mimetype": "text/x-python",
   "name": "python",
   "nbconvert_exporter": "python",
   "pygments_lexer": "ipython3",
   "version": "3.10.8"
  }
 },
 "nbformat": 4,
 "nbformat_minor": 5
}
