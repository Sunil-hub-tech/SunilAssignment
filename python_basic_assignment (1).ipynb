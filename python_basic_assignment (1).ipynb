{
 "cells": [
  {
   "cell_type": "code",
   "execution_count": null,
   "id": "d7270576-f3fe-405b-9e7c-f1a78371ae54",
   "metadata": {},
   "outputs": [],
   "source": [
    "# (1)Explain the key features of Python that make it a popular choice for programmings.\n",
    "# Ans:-Python is the popular programming language beacause of the following reasons:\n",
    "#     (a)It is widely used in the Data industry.\n",
    "#     (b)Python having a lot of libraries to use.\n",
    "#     (c)It is used in automation and image processing.\n",
    "#     (d)It is easy to learn and code.\n",
    "#     (e)It is used in Web development,machine learning etc due to it's versatile nature.\n",
    "#     (f)It has huge community all over the world."
   ]
  },
  {
   "cell_type": "code",
   "execution_count": null,
   "id": "e287951c-2119-4033-b265-13d7ecb0391b",
   "metadata": {},
   "outputs": [],
   "source": [
    "# (2)Describe the role of predefined keywords in Python and provide examples of how they are used in a\n",
    "# program.\n",
    "# Ans:-Predefined keywords are reserved words that have special meanings and purposes.They are used to define the structure and logic of a program, and can't be used as variable names or identifiers.\n",
    "# example: if, type,else, while,for, break, continue,print etc.\n",
    "# I am giving the example how they are used in python program:"
   ]
  },
  {
   "cell_type": "code",
   "execution_count": 4,
   "id": "39eedb20-4a5e-487b-a892-3cf298317fc2",
   "metadata": {},
   "outputs": [
    {
     "name": "stdout",
     "output_type": "stream",
     "text": [
      "123456\n"
     ]
    }
   ],
   "source": [
    "n=7\n",
    "i=1\n",
    "while i<n:\n",
    "    print(i, end=\" \")\n",
    "    i=i+1\n",
    "print()"
   ]
  },
  {
   "cell_type": "code",
   "execution_count": 5,
   "id": "852a0e66-79b7-45ab-9203-4672e8d04bda",
   "metadata": {},
   "outputs": [
    {
     "data": {
      "text/plain": [
       "str"
      ]
     },
     "execution_count": 5,
     "metadata": {},
     "output_type": "execute_result"
    }
   ],
   "source": [
    "a = \"Sunil\"\n",
    "type(a)"
   ]
  },
  {
   "cell_type": "code",
   "execution_count": 7,
   "id": "d48318e2-9108-4b82-b2d0-58c3046b4ab4",
   "metadata": {},
   "outputs": [
    {
     "name": "stdout",
     "output_type": "stream",
     "text": [
      "p w s k i l l s "
     ]
    }
   ],
   "source": [
    "b =\"pwskills\"\n",
    "for i in b:\n",
    "    print(i,end=\" \")"
   ]
  },
  {
   "cell_type": "code",
   "execution_count": null,
   "id": "65aa80be-67f7-4c47-9842-15fef162c8fd",
   "metadata": {},
   "outputs": [],
   "source": [
    "# (3)Compare and contrast mutable and immutable objects in Python with examples.\n",
    "# Ans:-In python, objects can be classified into two categories like mutable and immutable objects.\n",
    "# MUTABLE OBJECTS:It can be changed after creation of the code.\n",
    "# Example:lists,dictionaries,sets.\n",
    "# IMMUTABLE OBJECTS:It can't be changed after creation it may be modified.\n",
    "# Example:string,tupple,frozen set etc."
   ]
  },
  {
   "cell_type": "code",
   "execution_count": 8,
   "id": "cfeaeb25-935a-498d-9489-922b1bbae9b1",
   "metadata": {},
   "outputs": [
    {
     "data": {
      "text/plain": [
       "'apple'"
      ]
     },
     "execution_count": 8,
     "metadata": {},
     "output_type": "execute_result"
    }
   ],
   "source": [
    "my_lis=[\"apple\",\"Orange\",\"banana\"]\n",
    "my_lis[0]"
   ]
  },
  {
   "cell_type": "code",
   "execution_count": 9,
   "id": "9ae3010c-2862-4870-8695-33defa183558",
   "metadata": {},
   "outputs": [],
   "source": [
    "my_lis[0]=\"Brinjal\""
   ]
  },
  {
   "cell_type": "code",
   "execution_count": 10,
   "id": "69b484a9-6e24-4f94-8d02-71c49291ccb4",
   "metadata": {},
   "outputs": [
    {
     "data": {
      "text/plain": [
       "['Brinjal', 'Orange', 'banana']"
      ]
     },
     "execution_count": 10,
     "metadata": {},
     "output_type": "execute_result"
    }
   ],
   "source": [
    "my_lis"
   ]
  },
  {
   "cell_type": "code",
   "execution_count": 11,
   "id": "fbbab5b3-2e7c-4fff-ac93-ccbd16ce1d89",
   "metadata": {},
   "outputs": [
    {
     "data": {
      "text/plain": [
       "'s'"
      ]
     },
     "execution_count": 11,
     "metadata": {},
     "output_type": "execute_result"
    }
   ],
   "source": [
    "A =\"sunil\"\n",
    "A[0]"
   ]
  },
  {
   "cell_type": "code",
   "execution_count": 12,
   "id": "27eb659a-25f3-47ee-83c4-f61654b33dd9",
   "metadata": {},
   "outputs": [
    {
     "ename": "TypeError",
     "evalue": "'str' object does not support item assignment",
     "output_type": "error",
     "traceback": [
      "\u001b[0;31m---------------------------------------------------------------------------\u001b[0m",
      "\u001b[0;31mTypeError\u001b[0m                                 Traceback (most recent call last)",
      "Cell \u001b[0;32mIn[12], line 1\u001b[0m\n\u001b[0;32m----> 1\u001b[0m \u001b[43mA\u001b[49m\u001b[43m[\u001b[49m\u001b[38;5;241;43m0\u001b[39;49m\u001b[43m]\u001b[49m\u001b[38;5;241m=\u001b[39m\u001b[38;5;124m\"\u001b[39m\u001b[38;5;124ma\u001b[39m\u001b[38;5;124m\"\u001b[39m\n",
      "\u001b[0;31mTypeError\u001b[0m: 'str' object does not support item assignment"
     ]
    }
   ],
   "source": [
    "#it will give an error beacuase of immutable nature.\n",
    "A[0]=\"a\""
   ]
  },
  {
   "cell_type": "code",
   "execution_count": 14,
   "id": "ff7fcd4e-cfde-41ba-a63c-aa3d83ef4636",
   "metadata": {},
   "outputs": [
    {
     "data": {
      "text/plain": [
       "'I'"
      ]
     },
     "execution_count": 14,
     "metadata": {},
     "output_type": "execute_result"
    }
   ],
   "source": [
    "#it can be modified.\n",
    "b =\"I am a good learner\"\n",
    "b[0]"
   ]
  },
  {
   "cell_type": "code",
   "execution_count": 15,
   "id": "359ae52e-f7a6-47a9-a634-f23e0a17ceec",
   "metadata": {},
   "outputs": [
    {
     "data": {
      "text/plain": [
       "'I am a good dancer'"
      ]
     },
     "execution_count": 15,
     "metadata": {},
     "output_type": "execute_result"
    }
   ],
   "source": [
    "b.replace(\"learner\",\"dancer\")"
   ]
  },
  {
   "cell_type": "code",
   "execution_count": null,
   "id": "9818d942-31ca-40f1-95e9-9c7b153c47ab",
   "metadata": {},
   "outputs": [],
   "source": [
    "# (4)Discuss the different types of operators in Python and provide examples of how they are used.\n",
    "# Ans:-Special keywords/symbols that are used to perform operation on values or variables is called Operators.\n",
    "#     There are different types of operators like Arithmetic operators,comparision operators,logical operators,Bitwise operators,assignment    operators, membership operators and identity operators.\n",
    "#     (a)Arithmetic operators:addition(+),substraction(-),multiplication(*),division(/),modulus(%) operators.\n",
    "#     (b)Comparision operators:Equal to(==),Not equal to(!=),greater than(>),Lesser than(<).\n",
    "#     (c)Logical operators:Logic AND, Logic OR .\n",
    "#     (d)Bitwise operators:Leftshift(<<),Right shift(>>),Bitwise AND(&),Bitwise OR(|) .\n",
    "#     (e)Assignment operators:Assignment(=),addition assignment(+=),substraction assignment(-=),multiplication assignment(*=).\n",
    "#     (f)Membership operators:in,not in.\n",
    "#     (g)Identity operators:is, is not."
   ]
  },
  {
   "cell_type": "code",
   "execution_count": 16,
   "id": "22bc60f2-58dd-44b7-87b7-539e2252b5ed",
   "metadata": {},
   "outputs": [
    {
     "data": {
      "text/plain": [
       "11"
      ]
     },
     "execution_count": 16,
     "metadata": {},
     "output_type": "execute_result"
    }
   ],
   "source": [
    "#(a)\n",
    "5+6"
   ]
  },
  {
   "cell_type": "code",
   "execution_count": 21,
   "id": "7777a349-99f0-44ad-aca9-1e1b98645d6b",
   "metadata": {},
   "outputs": [
    {
     "name": "stdout",
     "output_type": "stream",
     "text": [
      "1234567\n"
     ]
    }
   ],
   "source": [
    "#(b)\n",
    "n=8\n",
    "i=1\n",
    "while i<n:\n",
    "    print(i,end=\"\")\n",
    "    i=i+1\n",
    "print()\n",
    "    "
   ]
  },
  {
   "cell_type": "code",
   "execution_count": 22,
   "id": "e014e53a-e854-4bc0-844f-eb435f2176af",
   "metadata": {},
   "outputs": [
    {
     "data": {
      "text/plain": [
       "True"
      ]
     },
     "execution_count": 22,
     "metadata": {},
     "output_type": "execute_result"
    }
   ],
   "source": [
    "#(c)\n",
    "True and True"
   ]
  },
  {
   "cell_type": "code",
   "execution_count": 23,
   "id": "ead80481-fc14-48dd-be5f-f4528c0843ac",
   "metadata": {},
   "outputs": [
    {
     "data": {
      "text/plain": [
       "True"
      ]
     },
     "execution_count": 23,
     "metadata": {},
     "output_type": "execute_result"
    }
   ],
   "source": [
    "True or False"
   ]
  },
  {
   "cell_type": "code",
   "execution_count": 24,
   "id": "513a00d4-3d03-4223-a28d-13ba7608b261",
   "metadata": {},
   "outputs": [
    {
     "data": {
      "text/plain": [
       "140"
      ]
     },
     "execution_count": 24,
     "metadata": {},
     "output_type": "execute_result"
    }
   ],
   "source": [
    "#(d)\n",
    "35<<2"
   ]
  },
  {
   "cell_type": "code",
   "execution_count": 25,
   "id": "09b200ea-4ede-4a71-8d89-01ee070a2101",
   "metadata": {},
   "outputs": [
    {
     "data": {
      "text/plain": [
       "35"
      ]
     },
     "execution_count": 25,
     "metadata": {},
     "output_type": "execute_result"
    }
   ],
   "source": [
    "140>>2"
   ]
  },
  {
   "cell_type": "code",
   "execution_count": 27,
   "id": "b2fb9dff-a1e2-4eed-a97d-2c7459017671",
   "metadata": {},
   "outputs": [],
   "source": [
    "#(e)\n",
    "a =5\n",
    "a+=6"
   ]
  },
  {
   "cell_type": "code",
   "execution_count": 28,
   "id": "dd4fece2-b9bb-498c-8000-1f9c6bb0665b",
   "metadata": {},
   "outputs": [
    {
     "data": {
      "text/plain": [
       "11"
      ]
     },
     "execution_count": 28,
     "metadata": {},
     "output_type": "execute_result"
    }
   ],
   "source": [
    "a"
   ]
  },
  {
   "cell_type": "code",
   "execution_count": 29,
   "id": "6ff31f88-70c6-4418-9ab7-c092d56c8b8a",
   "metadata": {},
   "outputs": [
    {
     "data": {
      "text/plain": [
       "True"
      ]
     },
     "execution_count": 29,
     "metadata": {},
     "output_type": "execute_result"
    }
   ],
   "source": [
    "#(f)\n",
    "\"Pwskills\"\n",
    "\"w\" in \"Pwskills\""
   ]
  },
  {
   "cell_type": "code",
   "execution_count": 30,
   "id": "8cfdf33a-84e6-4b61-a393-da1d172e5ef9",
   "metadata": {},
   "outputs": [
    {
     "data": {
      "text/plain": [
       "False"
      ]
     },
     "execution_count": 30,
     "metadata": {},
     "output_type": "execute_result"
    }
   ],
   "source": [
    "\"k\" not in \"Pwskills\""
   ]
  },
  {
   "cell_type": "code",
   "execution_count": 31,
   "id": "22e6be61-ed3d-4a43-8c48-467209b03316",
   "metadata": {},
   "outputs": [
    {
     "data": {
      "text/plain": [
       "False"
      ]
     },
     "execution_count": 31,
     "metadata": {},
     "output_type": "execute_result"
    }
   ],
   "source": [
    "#(g)\n",
    "a=\"Hello\"\n",
    "b=\"hello\"\n",
    "a is b"
   ]
  },
  {
   "cell_type": "code",
   "execution_count": null,
   "id": "5b727939-b222-4970-aca8-f73f06a99b8e",
   "metadata": {},
   "outputs": [],
   "source": [
    "# (5)Explain the concept of type casting in Python with examples.\n",
    "# Ans:-Type casting basically means the conversion of one data type to another data type.\n",
    "#     Type casting helps us to convert a data type to its original data type.\n",
    "#     There are lots of data type like string, list, tupple, set, dictionary etc."
   ]
  },
  {
   "cell_type": "code",
   "execution_count": 32,
   "id": "6e2775af-d7fc-4798-8eb7-ae6fedce357b",
   "metadata": {},
   "outputs": [
    {
     "data": {
      "text/plain": [
       "str"
      ]
     },
     "execution_count": 32,
     "metadata": {},
     "output_type": "execute_result"
    }
   ],
   "source": [
    "#actually 2 is an integer but here 2 is string.\n",
    "A=\"2\"\n",
    "type(A)"
   ]
  },
  {
   "cell_type": "code",
   "execution_count": 33,
   "id": "51045526-722c-4efa-9231-f87f3ac75ddb",
   "metadata": {},
   "outputs": [
    {
     "data": {
      "text/plain": [
       "'2'"
      ]
     },
     "execution_count": 33,
     "metadata": {},
     "output_type": "execute_result"
    }
   ],
   "source": [
    "#If we convert it to integer or float like something we can do it.\n",
    "A"
   ]
  },
  {
   "cell_type": "code",
   "execution_count": 37,
   "id": "4431bb9d-5e27-4889-8dac-b335b6504076",
   "metadata": {},
   "outputs": [
    {
     "data": {
      "text/plain": [
       "int"
      ]
     },
     "execution_count": 37,
     "metadata": {},
     "output_type": "execute_result"
    }
   ],
   "source": [
    "B=int(A)\n",
    "type(B)"
   ]
  },
  {
   "cell_type": "code",
   "execution_count": 39,
   "id": "4d8b6e39-f3fc-4113-a58a-7a149adf65e8",
   "metadata": {},
   "outputs": [
    {
     "data": {
      "text/plain": [
       "str"
      ]
     },
     "execution_count": 39,
     "metadata": {},
     "output_type": "execute_result"
    }
   ],
   "source": [
    "S=\"Sunil\"\n",
    "type(S)"
   ]
  },
  {
   "cell_type": "code",
   "execution_count": 40,
   "id": "02227ad8-41f2-4e79-a4a2-dde5add00c52",
   "metadata": {},
   "outputs": [
    {
     "ename": "ValueError",
     "evalue": "invalid literal for int() with base 10: 'Sunil'",
     "output_type": "error",
     "traceback": [
      "\u001b[0;31m---------------------------------------------------------------------------\u001b[0m",
      "\u001b[0;31mValueError\u001b[0m                                Traceback (most recent call last)",
      "Cell \u001b[0;32mIn[40], line 1\u001b[0m\n\u001b[0;32m----> 1\u001b[0m \u001b[38;5;28;43mint\u001b[39;49m\u001b[43m(\u001b[49m\u001b[43mS\u001b[49m\u001b[43m)\u001b[49m\n",
      "\u001b[0;31mValueError\u001b[0m: invalid literal for int() with base 10: 'Sunil'"
     ]
    }
   ],
   "source": [
    "int(S)\n",
    "#it gives us error because of the original data type of a character is string."
   ]
  },
  {
   "cell_type": "code",
   "execution_count": null,
   "id": "e7e1737c-75e1-41ca-9a8f-f4d05039a4d4",
   "metadata": {},
   "outputs": [],
   "source": [
    "# (6)How do conditional statements work in Python? Illustrate with examples.\n",
    "# Ans:-Conditional statements in Python are used to execute different blocks of code based on certain condition or logic.\n",
    "#     conditional statements like if statement, if else statement and if-elif-else statement etc."
   ]
  },
  {
   "cell_type": "code",
   "execution_count": 41,
   "id": "23783c60-7467-490e-8379-c4824e7199b5",
   "metadata": {},
   "outputs": [
    {
     "name": "stdout",
     "output_type": "stream",
     "text": [
      "b is greater than a\n"
     ]
    }
   ],
   "source": [
    "#if statement\n",
    "a=5\n",
    "b=6\n",
    "if a<b:\n",
    "    print(\"b is greater than a\")"
   ]
  },
  {
   "cell_type": "code",
   "execution_count": 43,
   "id": "d4e9f31a-f28a-41b8-8cbb-39e25ce8817f",
   "metadata": {},
   "outputs": [
    {
     "name": "stdout",
     "output_type": "stream",
     "text": [
      "This is odd number\n"
     ]
    }
   ],
   "source": [
    "#if-else statement\n",
    "i=83\n",
    "if i%2==0:\n",
    "    print(\"This is even number\")\n",
    "else:\n",
    "    print(\"This is odd number\")"
   ]
  },
  {
   "cell_type": "code",
   "execution_count": 45,
   "id": "02d97577-589b-44d5-bff7-5e58128c2551",
   "metadata": {},
   "outputs": [
    {
     "name": "stdout",
     "output_type": "stream",
     "text": [
      "grade D\n"
     ]
    }
   ],
   "source": [
    "#if-elif-else statement\n",
    "mark=40\n",
    "if 60>=mark>=50:\n",
    "    print(\"grade C\")\n",
    "elif 70>=mark>61:\n",
    "    print(\"grade B\")\n",
    "elif 100>=mark>71:\n",
    "    print(\"grade A\")\n",
    "else:\n",
    "    print(\"grade D\")"
   ]
  },
  {
   "cell_type": "code",
   "execution_count": null,
   "id": "3c16d88b-c5ee-4206-ae4f-ba6e7abdf9a5",
   "metadata": {},
   "outputs": [],
   "source": [
    "# (7)Describe the different types of loops in Python and their use cases with examples.\n",
    "# Ans:-Loops in python are used to execute a block of code repeatedly for specified number of times or until a certain condition is met.\n",
    "#     There are two main types of loops in python:\n",
    "#     (a)For loop:It is used to iterate over a sequence and execute a block of code for each item.\n",
    "#     (b)While loop:It is used to execute a block of code until the condition is met."
   ]
  },
  {
   "cell_type": "code",
   "execution_count": 47,
   "id": "b711e9ed-1064-414e-a355-6ddb842c14db",
   "metadata": {},
   "outputs": [
    {
     "name": "stdout",
     "output_type": "stream",
     "text": [
      "1357911"
     ]
    }
   ],
   "source": [
    "#(a)\n",
    "for i in range(12):\n",
    "    if i%2 == 0:\n",
    "        continue\n",
    "    print(i,end=\" \")"
   ]
  },
  {
   "cell_type": "code",
   "execution_count": 1,
   "id": "7f9b2311-85e9-4434-be08-f46239820082",
   "metadata": {},
   "outputs": [
    {
     "name": "stdout",
     "output_type": "stream",
     "text": [
      "2\n",
      "4\n",
      "5\n",
      "6\n",
      "7\n",
      "This will be executed when the while is run successfuly without any break\n"
     ]
    }
   ],
   "source": [
    "#(b)\n",
    "\n",
    "k = 7\n",
    "l = 1\n",
    "while l < k:\n",
    "    l = l+1\n",
    "    if l == 3:\n",
    "        continue\n",
    "    print(l)\n",
    "else:\n",
    "    print(\"This will be executed when the while is run successfuly without any break\")"
   ]
  },
  {
   "cell_type": "code",
   "execution_count": null,
   "id": "4fc5a9ee-e2cc-49bb-8c16-a763c8d55bb4",
   "metadata": {},
   "outputs": [],
   "source": []
  },
  {
   "cell_type": "code",
   "execution_count": null,
   "id": "bf85d552-3269-4f78-8738-18f863804126",
   "metadata": {},
   "outputs": [],
   "source": []
  }
 ],
 "metadata": {
  "kernelspec": {
   "display_name": "Python 3 (ipykernel)",
   "language": "python",
   "name": "python3"
  },
  "language_info": {
   "codemirror_mode": {
    "name": "ipython",
    "version": 3
   },
   "file_extension": ".py",
   "mimetype": "text/x-python",
   "name": "python",
   "nbconvert_exporter": "python",
   "pygments_lexer": "ipython3",
   "version": "3.10.8"
  }
 },
 "nbformat": 4,
 "nbformat_minor": 5
}
